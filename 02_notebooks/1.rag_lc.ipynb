{
 "cells": [
  {
   "cell_type": "code",
   "execution_count": null,
   "metadata": {},
   "outputs": [],
   "source": [
    "! pip install langchain-community"
   ]
  },
  {
   "cell_type": "code",
   "execution_count": 4,
   "metadata": {},
   "outputs": [],
   "source": [
    "import os\n",
    "from dotenv import load_dotenv, find_dotenv\n",
    "load_dotenv(find_dotenv())\n",
    "\n",
    "os.environ['OPENAI_API_KEY']=os.getenv(\"OPENAI_API_KEY\")"
   ]
  },
  {
   "cell_type": "markdown",
   "metadata": {},
   "source": [
    "Document Loaders"
   ]
  },
  {
   "cell_type": "code",
   "execution_count": 5,
   "metadata": {},
   "outputs": [
    {
     "data": {
      "text/plain": [
       "[Document(metadata={'source': './index.md'}, page_content='\\nLista de Tareas de DOMINGO:\\n\\n\\n1. Ir al gimnasio\\n2. Terminar la serie\\n3. Poner una lavadora\\n4. Hacer meal prepping\\n            ')]"
      ]
     },
     "execution_count": 5,
     "metadata": {},
     "output_type": "execute_result"
    }
   ],
   "source": [
    "from langchain_community.document_loaders import TextLoader\n",
    "\n",
    "loader = TextLoader(\"./index.md\")\n",
    "loader.load()"
   ]
  },
  {
   "cell_type": "code",
   "execution_count": 6,
   "metadata": {},
   "outputs": [],
   "source": [
    "from langchain_community.document_loaders.csv_loader import CSVLoader\n",
    "\n",
    "\n",
    "loader = CSVLoader(file_path='./example_data/mlb_teams_2012.csv')\n",
    "data = loader.load()"
   ]
  },
  {
   "cell_type": "code",
   "execution_count": null,
   "metadata": {},
   "outputs": [],
   "source": [
    "! pip install pypdf"
   ]
  },
  {
   "cell_type": "code",
   "execution_count": 7,
   "metadata": {},
   "outputs": [],
   "source": [
    "from langchain_community.document_loaders import PyPDFLoader\n",
    "\n",
    "loader = PyPDFLoader(\"example_data/meeting_data.pdf\")\n",
    "pages = loader.load_and_split()"
   ]
  },
  {
   "cell_type": "code",
   "execution_count": 8,
   "metadata": {},
   "outputs": [
    {
     "data": {
      "text/plain": [
       "Document(metadata={'source': 'example_data/meeting_data.pdf', 'page': 0}, page_content='Reunión de planificación - 15 de agosto de 2024\\nAsistentes:\\n- Juan Pérez\\n- María González\\n- Luis Fernández\\n- Ana Martínez\\nAgenda:\\n1. Revisión de los objetivos del trimestre pasado.\\n2. Planificación de las próximas actividades.\\n3. Asignación de responsabilidades.\\n4. Preguntas y respuestas.\\nConclusiones:\\n- Se logró el 85% de los objetivos del trimestre pasado.\\n- Se identificaron áreas de mejora en la comunicación interna.\\n- Las actividades prioritarias para el próximo trimestre incluyen la mejora de procesos y la\\ncapacitación del personal.\\nLa próxima reunión está programada para el 20 de septiembre de 2024.')"
      ]
     },
     "execution_count": 8,
     "metadata": {},
     "output_type": "execute_result"
    }
   ],
   "source": [
    "pages[0]"
   ]
  },
  {
   "cell_type": "markdown",
   "metadata": {},
   "source": [
    "Text Splitter"
   ]
  },
  {
   "cell_type": "code",
   "execution_count": 10,
   "metadata": {},
   "outputs": [],
   "source": [
    "from langchain.text_splitter import RecursiveCharacterTextSplitter\n",
    "\n",
    "text_splitter = RecursiveCharacterTextSplitter(\n",
    "  \n",
    "    chunk_size=1000,\n",
    "    chunk_overlap=200,\n",
    "    length_function=len,\n",
    "    is_separator_regex=False,\n",
    ")\n",
    "\n",
    "\n",
    "chunks_pages = text_splitter.split_documents(pages)"
   ]
  },
  {
   "cell_type": "markdown",
   "metadata": {},
   "source": [
    "Text embedding models"
   ]
  },
  {
   "cell_type": "code",
   "execution_count": 11,
   "metadata": {},
   "outputs": [],
   "source": [
    "from langchain_openai import OpenAIEmbeddings\n",
    "\n",
    "embeddings_model = OpenAIEmbeddings()"
   ]
  },
  {
   "cell_type": "code",
   "execution_count": 12,
   "metadata": {},
   "outputs": [
    {
     "data": {
      "text/plain": [
       "(5, 1536)"
      ]
     },
     "execution_count": 12,
     "metadata": {},
     "output_type": "execute_result"
    }
   ],
   "source": [
    "embeddings = embeddings_model.embed_documents(\n",
    "    [\n",
    "        \"Hi there!\",\n",
    "        \"Oh, hello!\",\n",
    "        \"What's your name?\",\n",
    "        \"My friends call me World\",\n",
    "        \"Hello World!\"\n",
    "    ]\n",
    ")\n",
    "len(embeddings), len(embeddings[0])"
   ]
  },
  {
   "cell_type": "code",
   "execution_count": 13,
   "metadata": {},
   "outputs": [
    {
     "data": {
      "text/plain": [
       "[0.005377273540943861,\n",
       " -0.0006527779041789472,\n",
       " 0.038980286568403244,\n",
       " -0.002967397216707468,\n",
       " -0.008834563195705414]"
      ]
     },
     "execution_count": 13,
     "metadata": {},
     "output_type": "execute_result"
    }
   ],
   "source": [
    "embedded_query = embeddings_model.embed_query(\"What was the name mentioned in the conversation?\")\n",
    "embedded_query[:5]"
   ]
  },
  {
   "cell_type": "markdown",
   "metadata": {},
   "source": [
    "Vector stores"
   ]
  },
  {
   "cell_type": "code",
   "execution_count": null,
   "metadata": {},
   "outputs": [],
   "source": [
    "%pip install -qU langchain-qdrant"
   ]
  },
  {
   "cell_type": "code",
   "execution_count": 43,
   "metadata": {},
   "outputs": [],
   "source": [
    "from langchain_community.document_loaders import TextLoader\n",
    "from langchain_openai import OpenAIEmbeddings\n",
    "from langchain_text_splitters import CharacterTextSplitter\n",
    "\n",
    "raw_documents = PyPDFLoader(\"example_data/meeting_data.pdf\").load()\n",
    "text_splitter = CharacterTextSplitter(chunk_size=1000, chunk_overlap=0)\n",
    "documents = text_splitter.split_documents(raw_documents)\n",
    "embeddings = OpenAIEmbeddings(model=\"text-embedding-3-large\")"
   ]
  },
  {
   "cell_type": "code",
   "execution_count": 53,
   "metadata": {},
   "outputs": [],
   "source": [
    "qdrant = QdrantVectorStore.from_documents(\n",
    "    documents=documents,\n",
    "    embedding= embeddings,\n",
    "    location=\":memory:\",  \n",
    "    collection_name=\"my_documents\",\n",
    ")\n",
    "\n",
    "query = \"¿Cuándo fue la última reunión?\"\n",
    "found_docs = qdrant.similarity_search(query)"
   ]
  },
  {
   "cell_type": "code",
   "execution_count": 45,
   "metadata": {},
   "outputs": [
    {
     "data": {
      "text/plain": [
       "[Document(metadata={'source': 'example_data/meeting_data.pdf', 'page': 0, '_id': '8b8d3323f7b4457886ddc60bd632380c', '_collection_name': 'my_documents'}, page_content='Reunión de planificación - 15 de agosto de 2024\\nAsistentes:\\n- Juan Pérez\\n- María González\\n- Luis Fernández\\n- Ana Martínez\\nAgenda:\\n1. Revisión de los objetivos del trimestre pasado.\\n2. Planificación de las próximas actividades.\\n3. Asignación de responsabilidades.\\n4. Preguntas y respuestas.\\nConclusiones:\\n- Se logró el 85% de los objetivos del trimestre pasado.\\n- Se identificaron áreas de mejora en la comunicación interna.\\n- Las actividades prioritarias para el próximo trimestre incluyen la mejora de procesos y la\\ncapacitación del personal.\\nLa próxima reunión está programada para el 20 de septiembre de 2024.')]"
      ]
     },
     "execution_count": 45,
     "metadata": {},
     "output_type": "execute_result"
    }
   ],
   "source": [
    "found_docs"
   ]
  },
  {
   "cell_type": "code",
   "execution_count": 46,
   "metadata": {},
   "outputs": [
    {
     "name": "stdout",
     "output_type": "stream",
     "text": [
      "1. Reunión de planificación - 15 de agosto de 2024\n",
      "Asistentes:\n",
      "- Juan Pérez\n",
      "- María González\n",
      "- Luis Fernández\n",
      "- Ana Martínez\n",
      "Agenda:\n",
      "1. Revisión de los objetivos del trimestre pasado.\n",
      "2. Planificación de las próximas actividades.\n",
      "3. Asignación de responsabilidades.\n",
      "4. Preguntas y respuestas.\n",
      "Conclusiones:\n",
      "- Se logró el 85% de los objetivos del trimestre pasado.\n",
      "- Se identificaron áreas de mejora en la comunicación interna.\n",
      "- Las actividades prioritarias para el próximo trimestre incluyen la mejora de procesos y la\n",
      "capacitación del personal.\n",
      "La próxima reunión está programada para el 20 de septiembre de 2024. \n",
      "\n"
     ]
    }
   ],
   "source": [
    "query = \"Cuándo fue la última reunión?\"\n",
    "found_docs = await qdrant.amax_marginal_relevance_search(query, k=2, fetch_k=10)\n",
    "for i, doc in enumerate(found_docs):\n",
    "    print(f\"{i + 1}.\", doc.page_content, \"\\n\")"
   ]
  },
  {
   "cell_type": "markdown",
   "metadata": {},
   "source": [
    "Retrievers"
   ]
  },
  {
   "cell_type": "code",
   "execution_count": 61,
   "metadata": {},
   "outputs": [],
   "source": [
    "retriever = qdrant.as_retriever(search_type=\"mmr\") # Maximum Marginal Relevance (MMR)\n",
    "docs = retriever.invoke(\"¿Cuándo fue la última reunión?\")"
   ]
  },
  {
   "cell_type": "code",
   "execution_count": 63,
   "metadata": {},
   "outputs": [
    {
     "data": {
      "text/plain": [
       "[Document(metadata={'source': 'example_data/meeting_data.pdf', 'page': 0, '_id': '5982ab570976435db0d3e8ad96fed2a3', '_collection_name': 'my_documents'}, page_content='Reunión de planificación - 15 de agosto de 2024\\nAsistentes:\\n- Juan Pérez\\n- María González\\n- Luis Fernández\\n- Ana Martínez\\nAgenda:\\n1. Revisión de los objetivos del trimestre pasado.\\n2. Planificación de las próximas actividades.\\n3. Asignación de responsabilidades.\\n4. Preguntas y respuestas.\\nConclusiones:\\n- Se logró el 85% de los objetivos del trimestre pasado.\\n- Se identificaron áreas de mejora en la comunicación interna.\\n- Las actividades prioritarias para el próximo trimestre incluyen la mejora de procesos y la\\ncapacitación del personal.\\nLa próxima reunión está programada para el 20 de septiembre de 2024.')]"
      ]
     },
     "execution_count": 63,
     "metadata": {},
     "output_type": "execute_result"
    }
   ],
   "source": [
    "docs"
   ]
  },
  {
   "cell_type": "markdown",
   "metadata": {},
   "source": [
    "Utiliza built-in chains para almacenar, recuperar y generar"
   ]
  },
  {
   "cell_type": "code",
   "execution_count": 64,
   "metadata": {},
   "outputs": [],
   "source": [
    "from langchain.chains.combine_documents import create_stuff_documents_chain\n",
    "from langchain_core.prompts import ChatPromptTemplate, MessagesPlaceholder\n",
    "from langchain_openai import ChatOpenAI\n",
    "\n",
    "llm = ChatOpenAI(model_name=\"gpt-3.5-turbo\",temperature=0)\n",
    "\n",
    "SYSTEM_TEMPLATE = \"\"\"\n",
    "Answer the user's questions based on the below context. \n",
    "If the context doesn't contain any relevant information to the question, don't make something up and just say \"I don't know\":\n",
    "\n",
    "<context>\n",
    "{context}\n",
    "</context>\n",
    "\"\"\"\n",
    "question_answering_prompt = ChatPromptTemplate.from_messages(\n",
    "    [\n",
    "        (\n",
    "            \"system\",\n",
    "            SYSTEM_TEMPLATE,\n",
    "        ),\n",
    "        MessagesPlaceholder(variable_name=\"messages\"),\n",
    "    ]\n",
    ")\n",
    "\n",
    "document_chain = create_stuff_documents_chain(llm, question_answering_prompt)"
   ]
  },
  {
   "cell_type": "code",
   "execution_count": 78,
   "metadata": {},
   "outputs": [
    {
     "data": {
      "text/plain": [
       "'La última reunión fue el 15 de agosto de 2024.'"
      ]
     },
     "execution_count": 78,
     "metadata": {},
     "output_type": "execute_result"
    }
   ],
   "source": [
    "\n",
    "from langchain_core.messages import HumanMessage\n",
    "\n",
    "input = \"¿Cuándo fue la última reunión?\"\n",
    "\n",
    "document_chain.invoke(\n",
    "    {\n",
    "        \"context\": docs,\n",
    "        \"messages\": [\n",
    "            HumanMessage(content=f\"{input}\")\n",
    "        ],\n",
    "    }\n",
    ")\n"
   ]
  },
  {
   "cell_type": "code",
   "execution_count": 79,
   "metadata": {},
   "outputs": [
    {
     "data": {
      "text/plain": [
       "'En la reunión intervienen Juan Pérez, María González, Luis Fernández y Ana Martínez.'"
      ]
     },
     "execution_count": 79,
     "metadata": {},
     "output_type": "execute_result"
    }
   ],
   "source": [
    "from langchain import hub\n",
    "from langchain.chains import create_retrieval_chain\n",
    "\n",
    "retrieval_qa_chat_prompt = hub.pull(\"lime-97/rag_chain_demo_prompt\")\n",
    "\n",
    "combine_docs_chain = create_stuff_documents_chain(\n",
    "    llm, retrieval_qa_chat_prompt\n",
    ")\n",
    "retrieval_chain = create_retrieval_chain(retriever, combine_docs_chain)\n",
    "\n",
    "response = retrieval_chain.invoke({\"input\":\"¿quiénes intervienen en la reunión?\"})\n",
    "response['answer']"
   ]
  }
 ],
 "metadata": {
  "kernelspec": {
   "display_name": ".venv",
   "language": "python",
   "name": "python3"
  },
  "language_info": {
   "codemirror_mode": {
    "name": "ipython",
    "version": 3
   },
   "file_extension": ".py",
   "mimetype": "text/x-python",
   "name": "python",
   "nbconvert_exporter": "python",
   "pygments_lexer": "ipython3",
   "version": "3.12.5"
  }
 },
 "nbformat": 4,
 "nbformat_minor": 2
}
