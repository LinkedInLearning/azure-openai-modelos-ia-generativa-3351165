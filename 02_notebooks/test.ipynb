{
 "cells": [
  {
   "cell_type": "code",
   "execution_count": 17,
   "metadata": {},
   "outputs": [],
   "source": [
    "%%capture --no-stderr\n",
    "%pip install -U langgraph langchain langchain-openai langchainhub langchain-community"
   ]
  },
  {
   "cell_type": "code",
   "execution_count": 1,
   "metadata": {},
   "outputs": [],
   "source": [
    "import os\n",
    "from dotenv import load_dotenv\n",
    "load_dotenv()\n",
    "\n",
    "open_ai_key = os.environ['OPENAI_API_KEY']=os.getenv(\"OPENAI_API_KEY\")"
   ]
  },
  {
   "cell_type": "code",
   "execution_count": 2,
   "metadata": {},
   "outputs": [],
   "source": [
    "## Modelo de embeddings\n",
    "from langchain_openai import ChatOpenAI, OpenAIEmbeddings\n",
    "\n",
    "model = ChatOpenAI(model=\"gpt-4o\", temperature=0)\n",
    "embedder = OpenAIEmbeddings()"
   ]
  },
  {
   "cell_type": "code",
   "execution_count": 4,
   "metadata": {},
   "outputs": [
    {
     "name": "stdout",
     "output_type": "stream",
     "text": [
      "Collecting pypdf\n",
      "  Using cached pypdf-4.3.1-py3-none-any.whl.metadata (7.4 kB)\n",
      "Using cached pypdf-4.3.1-py3-none-any.whl (295 kB)\n",
      "Installing collected packages: pypdf\n",
      "Successfully installed pypdf-4.3.1\n"
     ]
    }
   ],
   "source": [
    "! pip install pypdf"
   ]
  },
  {
   "cell_type": "code",
   "execution_count": 5,
   "metadata": {},
   "outputs": [],
   "source": [
    "from langchain_community.document_loaders import PyPDFLoader\n",
    "\n",
    "# cargar documentos\n",
    "loader = PyPDFLoader(\"example_data/meeting_data.pdf\")\n",
    "paper = loader.load()"
   ]
  },
  {
   "cell_type": "code",
   "execution_count": null,
   "metadata": {},
   "outputs": [],
   "source": [
    "%pip install -U faiss-cpu"
   ]
  },
  {
   "cell_type": "code",
   "execution_count": 8,
   "metadata": {},
   "outputs": [],
   "source": [
    "from langchain.vectorstores import FAISS\n",
    "from langchain.text_splitter import RecursiveCharacterTextSplitter\n",
    "\n",
    "text_splitter = RecursiveCharacterTextSplitter(\n",
    "    chunk_size=1000,\n",
    "    chunk_overlap=200,\n",
    ")\n",
    "\n",
    "# text splits for the document\n",
    "chunks_paper = text_splitter.split_documents(paper)\n",
    "\n",
    "# storing in vector store\n",
    "faiss_db_paper = FAISS.from_documents(chunks_paper, embedder)\n"
   ]
  },
  {
   "cell_type": "code",
   "execution_count": 9,
   "metadata": {},
   "outputs": [],
   "source": [
    "## creating retriever\n",
    "\n",
    "retriever_paper = faiss_db_paper.as_retriever()"
   ]
  },
  {
   "cell_type": "code",
   "execution_count": 10,
   "metadata": {},
   "outputs": [],
   "source": [
    "## converting the retriever to a Tool\n",
    "\n",
    "from langchain.tools.retriever import create_retriever_tool\n",
    "\n",
    "retriever_tool = create_retriever_tool(retriever_paper, \"RAG doc\", \"Search for info on RAG\")"
   ]
  },
  {
   "cell_type": "code",
   "execution_count": 11,
   "metadata": {},
   "outputs": [
    {
     "data": {
      "text/plain": [
       "'Reunión de planificación - 15 de agosto de 2024\\nAsistentes:\\n- Juan Pérez\\n- María González\\n- Luis Fernández\\n- Ana Martínez\\nAgenda:\\n1. Revisión de los objetivos del trimestre pasado.\\n2. Planificación de las próximas actividades.\\n3. Asignación de responsabilidades.\\n4. Preguntas y respuestas.\\nConclusiones:\\n- Se logró el 85% de los objetivos del trimestre pasado.\\n- Se identificaron áreas de mejora en la comunicación interna.\\n- Las actividades prioritarias para el próximo trimestre incluyen la mejora de procesos y la\\ncapacitación del personal.\\nLa próxima reunión está programada para el 20 de septiembre de 2024.'"
      ]
     },
     "execution_count": 11,
     "metadata": {},
     "output_type": "execute_result"
    }
   ],
   "source": [
    "# test it!\n",
    "\n",
    "retriever_tool.invoke(\"¿Cuándo fue la reunion?\")"
   ]
  },
  {
   "cell_type": "code",
   "execution_count": 13,
   "metadata": {},
   "outputs": [
    {
     "name": "stdout",
     "output_type": "stream",
     "text": [
      "Collecting wikipedia\n",
      "  Using cached wikipedia-1.4.0-py3-none-any.whl\n",
      "Collecting beautifulsoup4 (from wikipedia)\n",
      "  Using cached beautifulsoup4-4.12.3-py3-none-any.whl.metadata (3.8 kB)\n",
      "Requirement already satisfied: requests<3.0.0,>=2.0.0 in c:\\users\\diana\\desktop\\azure-openai-modelos-ia-generativa-3351165\\.venv\\lib\\site-packages (from wikipedia) (2.32.3)\n",
      "Requirement already satisfied: charset-normalizer<4,>=2 in c:\\users\\diana\\desktop\\azure-openai-modelos-ia-generativa-3351165\\.venv\\lib\\site-packages (from requests<3.0.0,>=2.0.0->wikipedia) (3.3.2)\n",
      "Requirement already satisfied: idna<4,>=2.5 in c:\\users\\diana\\desktop\\azure-openai-modelos-ia-generativa-3351165\\.venv\\lib\\site-packages (from requests<3.0.0,>=2.0.0->wikipedia) (3.7)\n",
      "Requirement already satisfied: urllib3<3,>=1.21.1 in c:\\users\\diana\\desktop\\azure-openai-modelos-ia-generativa-3351165\\.venv\\lib\\site-packages (from requests<3.0.0,>=2.0.0->wikipedia) (2.2.2)\n",
      "Requirement already satisfied: certifi>=2017.4.17 in c:\\users\\diana\\desktop\\azure-openai-modelos-ia-generativa-3351165\\.venv\\lib\\site-packages (from requests<3.0.0,>=2.0.0->wikipedia) (2024.7.4)\n",
      "Collecting soupsieve>1.2 (from beautifulsoup4->wikipedia)\n",
      "  Using cached soupsieve-2.6-py3-none-any.whl.metadata (4.6 kB)\n",
      "Using cached beautifulsoup4-4.12.3-py3-none-any.whl (147 kB)\n",
      "Using cached soupsieve-2.6-py3-none-any.whl (36 kB)\n",
      "Installing collected packages: soupsieve, beautifulsoup4, wikipedia\n",
      "Successfully installed beautifulsoup4-4.12.3 soupsieve-2.6 wikipedia-1.4.0\n"
     ]
    }
   ],
   "source": [
    "! pip install wikipedia"
   ]
  },
  {
   "cell_type": "code",
   "execution_count": 14,
   "metadata": {},
   "outputs": [],
   "source": [
    "# Añade otras tools para tu agente\n",
    "\n",
    "from langchain_community.utilities import ArxivAPIWrapper\n",
    "from langchain_community.tools.wikipedia.tool import WikipediaQueryRun\n",
    "from langchain_community.utilities import WikipediaAPIWrapper\n",
    "\n",
    "\n",
    "# Tool para buscar en Wikipedia\n",
    "wikipedia = WikipediaQueryRun(api_wrapper=WikipediaAPIWrapper())"
   ]
  },
  {
   "cell_type": "code",
   "execution_count": 15,
   "metadata": {},
   "outputs": [],
   "source": [
    "from langchain.tools import Tool\n",
    "\n",
    "# Documenta tus tools \n",
    "wiki_tool = Tool.from_function(\n",
    "    func=wikipedia.run,\n",
    "    name=\"wiki\",\n",
    "    description=\"useful for when you need to search certain topic on Wikipedia, aka wiki\")\n",
    "\n",
    "\n",
    "tools = [wiki_tool, retriever_tool] "
   ]
  },
  {
   "cell_type": "code",
   "execution_count": null,
   "metadata": {},
   "outputs": [],
   "source": [
    "%pip install -q httpx"
   ]
  },
  {
   "cell_type": "code",
   "execution_count": 23,
   "metadata": {},
   "outputs": [
    {
     "name": "stderr",
     "output_type": "stream",
     "text": [
      "C:\\Users\\Diana\\AppData\\Local\\Temp\\ipykernel_24264\\2884069654.py:5: LangGraphDeprecationWarning: ToolExecutor is deprecated as of version 0.2.0 and will be removed in 0.3.0. Use langgraph.prebuilt.ToolNode instead.\n",
      "  tool_executor = ToolExecutor(tools)\n"
     ]
    }
   ],
   "source": [
    "\n",
    "from langgraph.prebuilt.tool_executor import ToolExecutor, ToolInvocation # reinstalar!\n",
    "\n",
    "# Esta clase es útil para ejecutar las herramientas\n",
    "# Toma una acción del agente y llama a esa herramienta y devuelve el resultado\n",
    "tool_executor = ToolExecutor(tools)"
   ]
  },
  {
   "cell_type": "code",
   "execution_count": 24,
   "metadata": {},
   "outputs": [],
   "source": [
    "\n",
    "from langchain_core.messages import AIMessage\n",
    "from langchain_core.tools import tool\n",
    "\n",
    "from langgraph.prebuilt import ToolNode\n",
    "tool_node = ToolNode(tools)"
   ]
  },
  {
   "cell_type": "code",
   "execution_count": 25,
   "metadata": {},
   "outputs": [
    {
     "name": "stderr",
     "output_type": "stream",
     "text": [
      "C:\\Users\\Diana\\AppData\\Local\\Temp\\ipykernel_24264\\2915905985.py:2: LangGraphDeprecationWarning: ToolInvocation is deprecated as of version 0.2.0 and will be removed in 0.3.0. Use langgraph.prebuilt.ToolNode instead.\n",
      "  invocation = ToolInvocation(tool=\"RAG doc\", tool_input=\"What is Retrieval Augmented Generation?\")\n"
     ]
    },
    {
     "data": {
      "text/plain": [
       "'Reunión de planificación - 15 de agosto de 2024\\nAsistentes:\\n- Juan Pérez\\n- María González\\n- Luis Fernández\\n- Ana Martínez\\nAgenda:\\n1. Revisión de los objetivos del trimestre pasado.\\n2. Planificación de las próximas actividades.\\n3. Asignación de responsabilidades.\\n4. Preguntas y respuestas.\\nConclusiones:\\n- Se logró el 85% de los objetivos del trimestre pasado.\\n- Se identificaron áreas de mejora en la comunicación interna.\\n- Las actividades prioritarias para el próximo trimestre incluyen la mejora de procesos y la\\ncapacitación del personal.\\nLa próxima reunión está programada para el 20 de septiembre de 2024.'"
      ]
     },
     "execution_count": 25,
     "metadata": {},
     "output_type": "execute_result"
    }
   ],
   "source": [
    "# Probar \n",
    "invocation = ToolInvocation(tool=\"RAG doc\", tool_input=\"What is Retrieval Augmented Generation?\")\n",
    "\n",
    "tool_executor.invoke(invocation)"
   ]
  },
  {
   "cell_type": "code",
   "execution_count": 29,
   "metadata": {},
   "outputs": [
    {
     "data": {
      "text/plain": [
       "{'messages': [ToolMessage(content='Reunión de planificación - 15 de agosto de 2024\\nAsistentes:\\n- Juan Pérez\\n- María González\\n- Luis Fernández\\n- Ana Martínez\\nAgenda:\\n1. Revisión de los objetivos del trimestre pasado.\\n2. Planificación de las próximas actividades.\\n3. Asignación de responsabilidades.\\n4. Preguntas y respuestas.\\nConclusiones:\\n- Se logró el 85% de los objetivos del trimestre pasado.\\n- Se identificaron áreas de mejora en la comunicación interna.\\n- Las actividades prioritarias para el próximo trimestre incluyen la mejora de procesos y la\\ncapacitación del personal.\\nLa próxima reunión está programada para el 20 de septiembre de 2024.', name='RAG doc', tool_call_id='tool_call_id')]}"
      ]
     },
     "execution_count": 29,
     "metadata": {},
     "output_type": "execute_result"
    }
   ],
   "source": [
    "message_with_single_tool_call = AIMessage(\n",
    "    content=\"\",\n",
    "    tool_calls=[\n",
    "        {\n",
    "            \"name\": \"RAG doc\",\n",
    "            \"args\": {\"query\": \"¿Cuándo fue la reunion?\"},\n",
    "            \"id\": \"tool_call_id\",\n",
    "            \"type\": \"tool_call\",\n",
    "        }\n",
    "    ],\n",
    ")\n",
    "\n",
    "tool_node.invoke({\"messages\": [message_with_single_tool_call]})\n"
   ]
  },
  {
   "cell_type": "code",
   "execution_count": 16,
   "metadata": {},
   "outputs": [
    {
     "name": "stdout",
     "output_type": "stream",
     "text": [
      "prompt ---> \n",
      " input_variables=['agent_scratchpad', 'chat_history', 'input'] partial_variables={'tools': ['wiki', 'arxiv', 'tavily', 'serpapi', 'RAG doc'], 'tool_names': 'wiki, arxiv, tavily, serpapi, RAG doc'} template=\"\\n### [INST]\\n\\nAssistant is a large language model to answer questions on Retrieval Augmented Generation.\\n\\n\\nContext:\\n------\\n\\nAssistant has access to the following tools:\\n\\n{tools}\\n\\nTo use a tool, please use the following format:\\n\\n'''\\nThought: Do I need to use a tool? Yes\\nAction: the action to take, should be one of [{tool_names}]\\nAction Input: the input to the action\\nObservation: the result of the action\\n'''\\n\\nWhen you have a response to say to the Human, or if you do not need to use a tool, you MUST use the format:\\n\\n'''\\nThought: Do I need to use a tool? No\\nFinal Answer: [your response here]\\n'''\\n\\nBegin!\\n\\nPrevious conversation history:\\n{chat_history}\\n\\nNew input: {input}\\n\\nCurrent Scratchpad:\\n{agent_scratchpad}\\n\\n[/INST]\\n \"\n"
     ]
    }
   ],
   "source": [
    "## PROMPT TEMPLATE\n",
    "\n",
    "from langchain.memory import ConversationBufferMemory\n",
    "from langchain_core.prompts import PromptTemplate\n",
    "\n",
    "## set up memory\n",
    "memory = ConversationBufferMemory(memory_key=\"chat_history\", input_key='input', output_key=\"output\")\n",
    "\n",
    "prompt_template = \"\"\"\n",
    "### [INST]\n",
    "\n",
    "Assistant is a large language model to answer questions on Retrieval Augmented Generation.\n",
    "\n",
    "\n",
    "Context:\n",
    "------\n",
    "\n",
    "Assistant has access to the following tools:\n",
    "\n",
    "{tools}\n",
    "\n",
    "To use a tool, please use the following format:\n",
    "\n",
    "'''\n",
    "Thought: Do I need to use a tool? Yes\n",
    "Action: the action to take, should be one of [{tool_names}]\n",
    "Action Input: the input to the action\n",
    "Observation: the result of the action\n",
    "'''\n",
    "\n",
    "When you have a response to say to the Human, or if you do not need to use a tool, you MUST use the format:\n",
    "\n",
    "'''\n",
    "Thought: Do I need to use a tool? No\n",
    "Final Answer: [your response here]\n",
    "'''\n",
    "\n",
    "Begin!\n",
    "\n",
    "Previous conversation history:\n",
    "{chat_history}\n",
    "\n",
    "New input: {input}\n",
    "\n",
    "Current Scratchpad:\n",
    "{agent_scratchpad}\n",
    "\n",
    "[/INST]\n",
    " \"\"\"\n",
    "\n",
    "# Create prompt from prompt template\n",
    "prompt = PromptTemplate(\n",
    "    input_variables=['agent_scratchpad', 'chat_history', 'input', 'tool_names', 'tools'],\n",
    "    template=prompt_template,\n",
    ")\n",
    "\n",
    "prompt = prompt.partial(\n",
    "    tools=[t.name for t in tools],\n",
    "    tool_names=\", \".join([t.name for t in tools]),\n",
    ")\n",
    "print(\"prompt ---> \\n\", prompt)"
   ]
  },
  {
   "cell_type": "code",
   "execution_count": 31,
   "metadata": {},
   "outputs": [],
   "source": [
    "# Crear un Agente ReAct\n",
    "from langchain import hub\n",
    "\n",
    "# Utilicemos este prompt para crear un agente\n",
    "prompt = hub.pull(\"hwchase17/react\")\n"
   ]
  },
  {
   "cell_type": "code",
   "execution_count": 36,
   "metadata": {},
   "outputs": [
    {
     "name": "stdout",
     "output_type": "stream",
     "text": [
      "Answer the following questions as best you can. You have access to the following tools:\n",
      "\n",
      "{tools}\n",
      "\n",
      "Use the following format:\n",
      "\n",
      "Question: the input question you must answer\n",
      "Thought: you should always think about what to do\n",
      "Action: the action to take, should be one of [{tool_names}]\n",
      "Action Input: the input to the action\n",
      "Observation: the result of the action\n",
      "... (this Thought/Action/Action Input/Observation can repeat N times)\n",
      "Thought: I now know the final answer\n",
      "Final Answer: the final answer to the original input question\n",
      "\n",
      "Begin!\n",
      "\n",
      "Question: {input}\n",
      "Thought:{agent_scratchpad}\n"
     ]
    }
   ],
   "source": [
    "print(prompt.template)"
   ]
  },
  {
   "cell_type": "code",
   "execution_count": 37,
   "metadata": {},
   "outputs": [],
   "source": [
    "from langchain.agents import AgentExecutor, create_react_agent\n",
    "\n",
    "# Construye tu agente\n",
    "agent = create_react_agent(model, tools, prompt)\n",
    "\n",
    "# Crea el ejecutor de un agente pasádole los tools y el agente\n",
    "agent_executor = AgentExecutor(agent=agent, \n",
    "                               tools=tools, \n",
    "                               verbose=True,\n",
    "                               handle_parsing_errors=True,\n",
    "                               max_iterations=3,\n",
    "                               return_intermediate_steps=True,\n",
    "                               early_stopping_method=\"generate\")"
   ]
  },
  {
   "cell_type": "code",
   "execution_count": 38,
   "metadata": {},
   "outputs": [
    {
     "name": "stdout",
     "output_type": "stream",
     "text": [
      "\n",
      "\n",
      "\u001b[1m> Entering new AgentExecutor chain...\u001b[0m\n",
      "\u001b[32;1m\u001b[1;3mPara responder a esta pregunta, necesito buscar información específica sobre la reunión del 15 de agosto. La mejor manera de encontrar esta información es buscar en una fuente confiable como Wikipedia o en documentos relevantes.\n",
      "\n",
      "Action: wiki\n",
      "Action Input: \"reunión del 15 de agosto\"\u001b[0m\u001b[36;1m\u001b[1;3mPage: Vencer la culpa\n",
      "Summary: Vencer la culpa (English: Overcoming Guilt) is a Mexican telenovela produced by Rosy Ocampo for TelevisaUnivision. The series is the fifth production of the \"Vencer\" franchise, and aired on Las Estrellas from 26 June 2023 to 13 October 2023. It stars Claudia Martín, Gabriela de la Garza, María Sorté and Romina Poza.\n",
      "\n",
      "Page: Isla Entre Ríos\n",
      "Summary: Entre Ríos Island (Spanish: Isla Entre Ríos) is an uninhabited island in the Paraná Delta that constitutes an exclave of Argentina in waters belonging to Paraguay. It is part of the municipality of Berón de Astrada, which covers the entire Berón de Astrada Department in the north of Corrientes Province, Mesopotamia.\n",
      "\n",
      "Page: Mi marido tiene más familia\n",
      "Summary: The second and final season of Mi marido tiene familia, a Mexican telenovela produced by Juan Osorio, was ordered on 18 October 2017. The season premiered on Las Estrellas on 9 July 2018 and ended on 24 February 2019.\n",
      "\n",
      "\u001b[0m\u001b[32;1m\u001b[1;3mNo encontré información relevante sobre la \"reunión del 15 de agosto\" en Wikipedia. Intentaré buscar en documentos relevantes para obtener más detalles.\n",
      "\n",
      "Action: RAG doc\n",
      "Action Input: \"reunión del 15 de agosto\"\u001b[0m\u001b[33;1m\u001b[1;3mReunión de planificación - 15 de agosto de 2024\n",
      "Asistentes:\n",
      "- Juan Pérez\n",
      "- María González\n",
      "- Luis Fernández\n",
      "- Ana Martínez\n",
      "Agenda:\n",
      "1. Revisión de los objetivos del trimestre pasado.\n",
      "2. Planificación de las próximas actividades.\n",
      "3. Asignación de responsabilidades.\n",
      "4. Preguntas y respuestas.\n",
      "Conclusiones:\n",
      "- Se logró el 85% de los objetivos del trimestre pasado.\n",
      "- Se identificaron áreas de mejora en la comunicación interna.\n",
      "- Las actividades prioritarias para el próximo trimestre incluyen la mejora de procesos y la\n",
      "capacitación del personal.\n",
      "La próxima reunión está programada para el 20 de septiembre de 2024.\u001b[0m\u001b[32;1m\u001b[1;3mAhora tengo la información necesaria sobre la reunión del 15 de agosto.\n",
      "\n",
      "Final Answer: En la reunión del 15 de agosto de 2024, intervinieron Juan Pérez, María González, Luis Fernández y Ana Martínez.\u001b[0m\n",
      "\n",
      "\u001b[1m> Finished chain.\u001b[0m\n"
     ]
    },
    {
     "data": {
      "text/plain": [
       "{'input': '¿Quiénes intervienen en la reunión del 15 de agosto?',\n",
       " 'chat_history': [],\n",
       " 'output': 'En la reunión del 15 de agosto de 2024, intervinieron Juan Pérez, María González, Luis Fernández y Ana Martínez.',\n",
       " 'intermediate_steps': [(AgentAction(tool='wiki', tool_input='reunión del 15 de agosto', log='Para responder a esta pregunta, necesito buscar información específica sobre la reunión del 15 de agosto. La mejor manera de encontrar esta información es buscar en una fuente confiable como Wikipedia o en documentos relevantes.\\n\\nAction: wiki\\nAction Input: \"reunión del 15 de agosto\"'),\n",
       "   'Page: Vencer la culpa\\nSummary: Vencer la culpa (English: Overcoming Guilt) is a Mexican telenovela produced by Rosy Ocampo for TelevisaUnivision. The series is the fifth production of the \"Vencer\" franchise, and aired on Las Estrellas from 26 June 2023 to 13 October 2023. It stars Claudia Martín, Gabriela de la Garza, María Sorté and Romina Poza.\\n\\nPage: Isla Entre Ríos\\nSummary: Entre Ríos Island (Spanish: Isla Entre Ríos) is an uninhabited island in the Paraná Delta that constitutes an exclave of Argentina in waters belonging to Paraguay. It is part of the municipality of Berón de Astrada, which covers the entire Berón de Astrada Department in the north of Corrientes Province, Mesopotamia.\\n\\nPage: Mi marido tiene más familia\\nSummary: The second and final season of Mi marido tiene familia, a Mexican telenovela produced by Juan Osorio, was ordered on 18 October 2017. The season premiered on Las Estrellas on 9 July 2018 and ended on 24 February 2019.\\n\\n'),\n",
       "  (AgentAction(tool='RAG doc', tool_input='reunión del 15 de agosto', log='No encontré información relevante sobre la \"reunión del 15 de agosto\" en Wikipedia. Intentaré buscar en documentos relevantes para obtener más detalles.\\n\\nAction: RAG doc\\nAction Input: \"reunión del 15 de agosto\"'),\n",
       "   'Reunión de planificación - 15 de agosto de 2024\\nAsistentes:\\n- Juan Pérez\\n- María González\\n- Luis Fernández\\n- Ana Martínez\\nAgenda:\\n1. Revisión de los objetivos del trimestre pasado.\\n2. Planificación de las próximas actividades.\\n3. Asignación de responsabilidades.\\n4. Preguntas y respuestas.\\nConclusiones:\\n- Se logró el 85% de los objetivos del trimestre pasado.\\n- Se identificaron áreas de mejora en la comunicación interna.\\n- Las actividades prioritarias para el próximo trimestre incluyen la mejora de procesos y la\\ncapacitación del personal.\\nLa próxima reunión está programada para el 20 de septiembre de 2024.')]}"
      ]
     },
     "execution_count": 38,
     "metadata": {},
     "output_type": "execute_result"
    }
   ],
   "source": [
    "# Probemos nuestro agente\n",
    "agent_outcome = agent_executor.invoke({\"input\": \"¿Quiénes intervienen en la reunión del 15 de agosto?\",\"chat_history\": []})\n",
    "agent_outcome"
   ]
  },
  {
   "cell_type": "code",
   "execution_count": 39,
   "metadata": {},
   "outputs": [
    {
     "data": {
      "text/plain": [
       "AgentAction(tool='wiki', tool_input='reunión del 15 de agosto', log='Para responder a esta pregunta, necesito buscar información específica sobre la reunión del 15 de agosto. La mejor manera de encontrar esta información es buscar en una fuente confiable como Wikipedia o en documentos relevantes.\\n\\nAction: wiki\\nAction Input: \"reunión del 15 de agosto\"')"
      ]
     },
     "execution_count": 39,
     "metadata": {},
     "output_type": "execute_result"
    }
   ],
   "source": [
    "agent_action = agent_outcome['intermediate_steps'][0][0]\n",
    "output = tool_executor.invoke(agent_action)\n",
    "agent_action"
   ]
  },
  {
   "cell_type": "code",
   "execution_count": 40,
   "metadata": {},
   "outputs": [],
   "source": [
    "# crea una clase AgentState para almacenar el estado del agente\n",
    "\n",
    "from typing import TypedDict, Annotated, List, Union\n",
    "from langchain_core.agents import AgentAction, AgentFinish\n",
    "from langchain_core.messages import BaseMessage\n",
    "import operator\n",
    "\n",
    "\n",
    "class AgentState(TypedDict):\n",
    "    # el string de input del usuario\n",
    "    input: str\n",
    "    # Lista de mensajes previos\n",
    "    chat_history: list[BaseMessage]\n",
    "    # El outcome de una llamada a un agente\n",
    "    agent_outcome: Union[AgentAction, AgentFinish, None]\n",
    "    \n",
    "    # Lista de acciones y observaciones correspondientes\n",
    "    # Aquí anotamos esto con `operator.add` para indicar que las operaciones a\n",
    "    # este estado deben AGREGARSE a los valores existentes (no sobrescribirlo)\n",
    "    intermediate_steps: Annotated[list[tuple[AgentAction, str]], operator.add]"
   ]
  },
  {
   "cell_type": "code",
   "execution_count": 41,
   "metadata": {},
   "outputs": [],
   "source": [
    "# Define los nodos\n",
    "from langchain_core.agents import AgentActionMessageLog\n",
    "\n",
    "def run_agent(data):\n",
    "    inputs = data.copy()\n",
    "    text = inputs['input']\n",
    "    agent_outcome = agent_executor.invoke({\"input\":text})\n",
    "    return {\"agent_outcome\": agent_outcome}\n",
    "\n",
    "# Define la función que ejecuta las tools\n",
    "def execute_tools(data):\n",
    "    # Obtén el agent outcome más reciente\n",
    "    agent_output = data[\"agent_outcome\"]\n",
    "    if len(agent_output['intermediate_steps'])>=1 :\n",
    "        agent_action = agent_output['intermediate_steps'][0][0]\n",
    "        output = tool_executor.invoke(agent_action)\n",
    "        return {\"intermediate_steps\": [(agent_action, str(output))]}\n",
    "    else:\n",
    "        return {\"intermediate_steps\":[]}\n",
    "\n",
    "# Lógica para decidir los conditional edges\n",
    "def should_continue(data):\n",
    "\n",
    "    # Si el agente ha terminado, entonces devolvemos `end`\n",
    "    # Esto se usará al configurar el grafo para definir el flujo\n",
    "    if data[\"agent_outcome\"][\"output\"] is not None:\n",
    "        print(\" **AgentFinish** \" )\n",
    "        return \"end\"\n",
    "\n",
    "    # Si no, se devuelve un AgentAction\n",
    "    # Aquí devolvemos la cadena `continue`\n",
    "    # Esto se usará al configurar el grafo para definir el flujo\n",
    "    else:\n",
    "        print(\" **continue** \" )\n",
    "        return \"continue\""
   ]
  },
  {
   "cell_type": "code",
   "execution_count": 42,
   "metadata": {},
   "outputs": [],
   "source": [
    "from langgraph.graph import END, StateGraph\n",
    "\n",
    "# Define un nuevo grafo de estados\n",
    "workflow = StateGraph(AgentState)"
   ]
  },
  {
   "cell_type": "code",
   "execution_count": 43,
   "metadata": {},
   "outputs": [],
   "source": [
    "# Define los nodos por los que se va a ciclar\n",
    "workflow.add_node(\"agent\", run_agent)\n",
    "workflow.add_node(\"action\", execute_tools)"
   ]
  },
  {
   "cell_type": "code",
   "execution_count": 44,
   "metadata": {},
   "outputs": [],
   "source": [
    "\n",
    "# Configura el punto de entrada como `agent`\n",
    "# Esto significa que este nodo es el primero en ser llamado\n",
    "workflow.set_entry_point(\"agent\")"
   ]
  },
  {
   "cell_type": "code",
   "execution_count": 45,
   "metadata": {},
   "outputs": [],
   "source": [
    "# Añade los edges condicionales\n",
    "workflow.add_conditional_edges(\n",
    "    \"agent\",\n",
    "    should_continue,\n",
    "  \n",
    "    {\n",
    "        \"continue\": \"action\",\n",
    "        \"end\": END,\n",
    "    },\n",
    ")"
   ]
  },
  {
   "cell_type": "code",
   "execution_count": 46,
   "metadata": {},
   "outputs": [],
   "source": [
    "# Añade un normal edge\n",
    "workflow.add_edge(\"action\", \"agent\")"
   ]
  },
  {
   "cell_type": "code",
   "execution_count": 47,
   "metadata": {},
   "outputs": [],
   "source": [
    "# Nos devuelve un runnable de LangChain\n",
    "app = workflow.compile()"
   ]
  },
  {
   "cell_type": "code",
   "execution_count": null,
   "metadata": {},
   "outputs": [],
   "source": [
    "# from langchain_core.runnables.graph import CurveStyle, NodeColors, MermaidDrawMethod\n",
    "# from IPython.display import display, HTML, Image\n",
    "\n",
    "# display(\n",
    "#     Image(\n",
    "#         app.get_graph().draw_mermaid_png(\n",
    "#             draw_method=MermaidDrawMethod.API,\n",
    "#         )\n",
    "#     )\n",
    "# )"
   ]
  },
  {
   "cell_type": "code",
   "execution_count": 50,
   "metadata": {},
   "outputs": [
    {
     "name": "stdout",
     "output_type": "stream",
     "text": [
      "\n",
      "\n",
      "\u001b[1m> Entering new AgentExecutor chain...\u001b[0m\n",
      "\u001b[32;1m\u001b[1;3mPara responder a esta pregunta, necesito buscar información específica sobre la reunión del 15 de agosto y quiénes participaron en ella. Utilizaré la herramienta de búsqueda en Wikipedia para obtener detalles sobre este evento.\n",
      "\n",
      "Action: wiki\n",
      "Action Input: \"reunión del 15 de agosto participantes\"\u001b[0m\u001b[36;1m\u001b[1;3mPage: Acapulco Shore series 10\n",
      "Summary: The tenth season of Acapulco Shore, a Mexican television programme based in Acapulco was announced on August, 2022 and premiered on September 27, 2022. Filming started in June 2022 in the coastal city of Puerto Vallarta, Jalisco, making this the second time the show is filmed in this city. Days after filming began rolling, a possible case of COVID-19 among cast members caused filming to be put on hold for a few days, before resuming. This season was announced in February 2022, via a Viacom press release. On August 28, 2022, the cast members were announced. This season marks the return of original cast member, Luis “Jawy” Méndez since his last appearance in Season 7. New cast members this season include Andrés Cervantes, Abel Robles, Elizabeth Varela, who previously participated in AYTO? and Resistiré, Ricardo “Ricky” Ochoa and Sebastián Gálvez, Alejandra Varela and Roberto Mora debuted later. The trailer of the season was released on September 12, 2022. Jaylin Castellanos and Rocío Sánchez were featured guests this season, while original castmember Fernando Lozada guest appeared in the final 2 episodes.\n",
      "Ahead of the season premiere, during a press interview, original cast member Karime Pindter announced her engagement, plans for her upcoming wedding, and also revealed this was her final season on the show.\n",
      "\n",
      "\n",
      "\n",
      "Page: Andrés Manuel López Obrador\n",
      "Summary: Andrés Manuel López Obrador (Spanish: [anˈdɾes maˈnwel ˈlopes oβɾaˈðoɾ] ; born 13 November 1953), also known by his initials AMLO, is a Mexican politician who is the 65th and current president of Mexico since 2018. He previously served as Head of Government of Mexico City from 2000 to 2005.\n",
      "Born in Tepetitán, in the municipality of Macuspana, in the south-eastern state of Tabasco, López Obrador earned a degree in political science from the National Autonomous University of Mexico following a hiatus from his studies to participate in politics. He began his political career in 1976 as a member of the Institutional Revolutionary Party (PRI). His first public position was as director of the Indigenous Institute of Tabasco, where he promoted the addition of books in indigenous languages and the project of the Chontal ridge. In 1989, he joined the Party of the Democratic Revolution (PRD), becoming the party's 1994 candidate for Governor of Tabasco and national leader between 1996 and 1999. In 2000, he was elected Head of Government of Mexico City. During his tenure, his crime, infrastructure and social spending policies made him a popular figure on the Mexican left. In 2004, his state immunity from prosecution was removed after he refused to cease construction on land allegedly expropriated by his predecessor, Rosario Robles. This legal process lasted a year, ending with López Obrador maintaining his right to run for office.\n",
      "López Obrador was nominated as the presidential candidate for the Coalition for the Good of All during the 2006 elections, where he was narrowly defeated by the National Action Party (PAN) candidate Felipe Calderón. While the Federal Electoral Tribunal noted a number of irregularities, it denied López Obrador's request for a general recount, which sparked protests across the country. In 2011, he founded Morena, a civil association and later political party. He was a candidate for the Progressive Movement coalition in the 2012 elections, won by the Commitment to Mexico coalition candidate Enrique Peña Nieto. In 2012, he left the PRD after protesting the party's signing of the Pact for Mexico and joined Morena. As part of the Juntos Haremos Historia coalition, López Obrador was elected president after a landslide victory in the 2018 general election.\n",
      "Described as being centre-left, progressive, left-wing populist, social democratic, and economic nationalist, López Obrador has been a national politician for over three decades. During his presidency, he has promoted public investment in sectors that had been liberalized under pre\u001b[0m\u001b[32;1m\u001b[1;3mNo he encontrado información específica sobre una \"reunión del 15 de agosto\" en los resultados de la búsqueda en Wikipedia. Para obtener una respuesta más precisa, intentaré buscar en la herramienta RAG doc.\n",
      "\n",
      "Action: RAG doc\n",
      "Action Input: \"reunión del 15 de agosto participantes\"\u001b[0m\u001b[33;1m\u001b[1;3mReunión de planificación - 15 de agosto de 2024\n",
      "Asistentes:\n",
      "- Juan Pérez\n",
      "- María González\n",
      "- Luis Fernández\n",
      "- Ana Martínez\n",
      "Agenda:\n",
      "1. Revisión de los objetivos del trimestre pasado.\n",
      "2. Planificación de las próximas actividades.\n",
      "3. Asignación de responsabilidades.\n",
      "4. Preguntas y respuestas.\n",
      "Conclusiones:\n",
      "- Se logró el 85% de los objetivos del trimestre pasado.\n",
      "- Se identificaron áreas de mejora en la comunicación interna.\n",
      "- Las actividades prioritarias para el próximo trimestre incluyen la mejora de procesos y la\n",
      "capacitación del personal.\n",
      "La próxima reunión está programada para el 20 de septiembre de 2024.\u001b[0m\u001b[32;1m\u001b[1;3mAhora tengo la información necesaria sobre la reunión del 15 de agosto y los participantes. \n",
      "\n",
      "Final Answer: En la reunión del 15 de agosto de 2024, intervinieron Juan Pérez, María González, Luis Fernández y Ana Martínez.\u001b[0m\n",
      "\n",
      "\u001b[1m> Finished chain.\u001b[0m\n",
      " **AgentFinish** \n"
     ]
    }
   ],
   "source": [
    "inputs = {\"input\": \"¿Quiénes intervinieron en la reunión del 15 de agosto?\"} \n",
    "outputs = app.invoke(inputs)"
   ]
  },
  {
   "cell_type": "code",
   "execution_count": null,
   "metadata": {},
   "outputs": [],
   "source": [
    "# inputs = {\"input\": \"Explain what are Langchain Agents. Use appropriate metaphor to connect with real-life instances\"} # ,\"chat_history\": []\n",
    "# outputs = app.invoke(inputs)"
   ]
  },
  {
   "cell_type": "code",
   "execution_count": 51,
   "metadata": {},
   "outputs": [
    {
     "data": {
      "text/plain": [
       "'En la reunión del 15 de agosto de 2024, intervinieron Juan Pérez, María González, Luis Fernández y Ana Martínez.'"
      ]
     },
     "execution_count": 51,
     "metadata": {},
     "output_type": "execute_result"
    }
   ],
   "source": [
    "outputs['agent_outcome']['output']"
   ]
  }
 ],
 "metadata": {
  "kernelspec": {
   "display_name": ".venv",
   "language": "python",
   "name": "python3"
  },
  "language_info": {
   "codemirror_mode": {
    "name": "ipython",
    "version": 3
   },
   "file_extension": ".py",
   "mimetype": "text/x-python",
   "name": "python",
   "nbconvert_exporter": "python",
   "pygments_lexer": "ipython3",
   "version": "3.12.5"
  }
 },
 "nbformat": 4,
 "nbformat_minor": 2
}
