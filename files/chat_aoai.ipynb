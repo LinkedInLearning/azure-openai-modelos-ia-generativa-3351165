{
 "cells": [
  {
   "cell_type": "markdown",
   "metadata": {},
   "source": [
    "### **Azure OpenAI Chat**"
   ]
  },
  {
   "cell_type": "code",
   "execution_count": 55,
   "metadata": {},
   "outputs": [],
   "source": [
    "from openai import AzureOpenAI\n",
    "import configparser\n",
    "import json"
   ]
  },
  {
   "cell_type": "code",
   "execution_count": 56,
   "metadata": {},
   "outputs": [],
   "source": [
    "config = configparser.ConfigParser()\n",
    "config.read('config.ini')\n",
    "api_key = config.get('default', 'AZURE_OPENAI_KEY')\n",
    "api_endpoint = config.get('default','AZURE_OPENAI_ENDPOINT')"
   ]
  },
  {
   "cell_type": "code",
   "execution_count": 33,
   "metadata": {},
   "outputs": [],
   "source": [
    "client = AzureOpenAI(\n",
    "  azure_endpoint = api_endpoint, \n",
    "  api_key=api_key,  \n",
    "  api_version=\"2024-02-15-preview\"\n",
    ")"
   ]
  },
  {
   "cell_type": "code",
   "execution_count": null,
   "metadata": {},
   "outputs": [],
   "source": [
    "\n",
    "user_prompt = \"¿Qué selección ganó la copa mundial de futbol en 2018?\"\n",
    "\n",
    "system_prompt = \"\"\"Responde las preguntas de la manera más veraz posible.\n",
    "                Si no sabes la respuesta contesta: \"No lo sé\"\n",
    "\n",
    "Por ejemplo:\n",
    "\n",
    "Pregunta de Usuario: ¿En qué meses se desarrolla el verano en el hemisferio norte?\n",
    "Respuesta: junio, julio y agosto\n",
    "\n",
    "\"\"\"\n",
    "message_text = [{\"role\":\"system\",\"content\":system_prompt},\n",
    "                {\"role\":\"user\",\"content\":user_prompt}]\n",
    "\n",
    "response = client.chat.completions.create(\n",
    "  model= \"gpt-4\",\n",
    "  messages = message_text,\n",
    "  temperature = 0.3\n",
    ")\n",
    "\n",
    "response.choices[0].message.content"
   ]
  },
  {
   "cell_type": "code",
   "execution_count": 9,
   "metadata": {},
   "outputs": [],
   "source": [
    "system_prompt = '''Imagina que eres un miembro del equipo de marketing de una empresa de tecnología. Eres experto en campañas y engagement en redes sociales'''\n",
    "\n",
    "user_prompt = '''Crea 3 hashtags para las campaña en redes sociales este 8 de Marzo, relacionados con las muejeres tecnólogas\n",
    "\n",
    "De este formato:\n",
    "Hashtag 1:\n",
    "Hashtag 2:\n",
    "Hashtag 3:\n",
    "'''"
   ]
  },
  {
   "cell_type": "code",
   "execution_count": null,
   "metadata": {},
   "outputs": [],
   "source": [
    "message_text = [{\"role\":\"system\",\"content\":system_prompt},\n",
    "                {\"role\":\"user\",\"content\":user_prompt}]\n",
    "\n",
    "response = client.chat.completions.create(\n",
    "  model= \"gpt-4\",\n",
    "  messages = message_text,\n",
    "  temperature = 1\n",
    ")\n",
    "\n"
   ]
  },
  {
   "cell_type": "code",
   "execution_count": null,
   "metadata": {},
   "outputs": [],
   "source": [
    "print (response.choices[0].message.content)"
   ]
  },
  {
   "cell_type": "markdown",
   "metadata": {},
   "source": [
    "### **Chat con tus Datos**"
   ]
  },
  {
   "cell_type": "code",
   "execution_count": 57,
   "metadata": {},
   "outputs": [],
   "source": [
    "search_endpoint = config.get('default', 'AZURE_SEARCH_ENDPOINT')\n",
    "search_key = config.get('default', 'AZURE_SEARCH_KEY')\n",
    "search_index_name = \"lil-demo-ix\""
   ]
  },
  {
   "cell_type": "code",
   "execution_count": 58,
   "metadata": {},
   "outputs": [],
   "source": [
    "azure_oai_deployment = \"gpt-4\"\n",
    "\n",
    "client = AzureOpenAI(\n",
    "    base_url=f\"{api_endpoint}/openai/deployments/{azure_oai_deployment}/extensions\",\n",
    "    api_key=api_key,\n",
    "    api_version=\"2023-09-01-preview\")"
   ]
  },
  {
   "cell_type": "code",
   "execution_count": 59,
   "metadata": {},
   "outputs": [],
   "source": [
    "text = input('\\nEnter a question:\\n')"
   ]
  },
  {
   "cell_type": "code",
   "execution_count": 60,
   "metadata": {},
   "outputs": [
    {
     "name": "stdout",
     "output_type": "stream",
     "text": [
      "Request: ¿Por qué la reina quería matar a Blanca Nieves?\n",
      "\n"
     ]
    }
   ],
   "source": [
    "print(\"Request: \" + text + \"\\n\")"
   ]
  },
  {
   "cell_type": "code",
   "execution_count": 61,
   "metadata": {},
   "outputs": [],
   "source": [
    "extension_config = dict(dataSources = [  \n",
    "        { \n",
    "            \"type\": \"AzureCognitiveSearch\", \n",
    "            \"parameters\": { \n",
    "                \"endpoint\":search_endpoint, \n",
    "                \"key\": search_key, \n",
    "                \"indexName\": search_index_name,\n",
    "            }\n",
    "        }]\n",
    "        )"
   ]
  },
  {
   "cell_type": "code",
   "execution_count": null,
   "metadata": {},
   "outputs": [],
   "source": [
    "response = client.chat.completions.create(\n",
    "            model = azure_oai_deployment,\n",
    "            temperature = 0.5,\n",
    "            max_tokens = 1000,\n",
    "            messages = [\n",
    "                {\"role\": \"system\", \"content\": \"You are a helpful assistant who knows about children stories\"},\n",
    "                {\"role\": \"user\", \"content\": text}\n",
    "            ],\n",
    "            extra_body = extension_config\n",
    "        )"
   ]
  },
  {
   "cell_type": "code",
   "execution_count": 54,
   "metadata": {},
   "outputs": [
    {
     "name": "stdout",
     "output_type": "stream",
     "text": [
      "Response: La Reina, que era la madrastra de Blanca Nieves, estaba consumida por la envidia debido a la belleza de Blanca Nieves. Temía perder su posición como la más bella del reino, por lo que ordenó a un cazador que llevara a Blanca Nieves al bosque y la matara [doc1].\n",
      "\n",
      "\n",
      "Context information:\n",
      "\n",
      "{\n",
      "  \"citations\": [\n",
      "    {\n",
      "      \"content\": \"Hab\\u00eda una vez, en un reino muy lejano, una hermosa princesa llamada Blanca Nieves. Ella era tan hermosa que su madrastra, la Reina, se consum\\u00eda por la envidia, deseando ser la m\\u00e1s bella del reino. La Reina, temiendo perder su posici\\u00f3n, orden\\u00f3 a un cazador que llevara a Blanca Nieves al bosque y la matara.\\r\\n\\r\\nSin embargo, el coraz\\u00f3n del cazador se llen\\u00f3 de compasi\\u00f3n por la dulce Blanca Nieves, y en lugar de hacerle da\\u00f1o, la dej\\u00f3 en libertad en el bosque. Blanca Nieves, asustada pero valiente, se adentr\\u00f3 en el espeso bosque y encontr\\u00f3 refugio en una peque\\u00f1a caba\\u00f1a, propiedad de siete amables enanitos.\\r\\n\\r\\nLos enanitos acogieron a Blanca Nieves con cari\\u00f1o y le ofrecieron refugio en su hogar. A cambio, Blanca Nieves se encargaba de las tareas del hogar mientras los enanitos trabajaban en las minas. A pesar de las dificultades, Blanca Nieves encontr\\u00f3 consuelo y amistad en la compa\\u00f1\\u00eda de los enanitos.\\r\\n\\r\\nMientras tanto, la malvada Reina, al enterarse de que Blanca Nieves a\\u00fan estaba viva, decidi\\u00f3 acabar con ella de una vez por todas. Disfrazada de anciana vendedora, la Reina ofreci\\u00f3 a Blanca Nieves una manzana envenenada. Sin sospechar el enga\\u00f1o, Blanca Nieves cay\\u00f3 en un profundo sue\\u00f1o tras morder la manzana.\\r\\n\\r\\nLos enanitos, desesperados al encontrar a Blanca Nieves inconsciente, creyeron que hab\\u00eda muerto. La colocaron en un ata\\u00fad de cristal y la lloraron con gran tristeza. Pero su pureza y belleza atrajeron la atenci\\u00f3n de un apuesto pr\\u00edncipe que pasaba por el bosque. Al verla, qued\\u00f3 prendado de su belleza y, al besarla, rompi\\u00f3 el hechizo.\\r\\n\\r\\nBlanca Nieves despert\\u00f3, y con el amor del pr\\u00edncipe a su lado, regres\\u00f3 al castillo. La Reina, al enterarse de su fracaso, fue castigada por sus malas acciones. Blanca Nieves se convirti\\u00f3 en la princesa m\\u00e1s amada del reino, y vivi\\u00f3 feliz junto al pr\\u00edncipe y los enanitos para siempre. Y as\\u00ed, la bondad y la belleza de Blanca Nieves conquistaron todos los corazones del reino\",\n",
      "      \"id\": null,\n",
      "      \"title\": \"Hab\\u00eda una vez, en un reino muy lejano, una hermosa princesa llamada Blanca Nieves. Ella era tan hermosa que su madrastra, la Reina, se consum\\u00eda por la envidia, deseando ser la m\",\n",
      "      \"filepath\": \"blancanieves.txt\",\n",
      "      \"url\": \"https://lilsa.blob.core.windows.net/aais-data/blancanieves.txt\",\n",
      "      \"metadata\": {\n",
      "        \"chunking\": \"orignal document size=718. Scores=5.036136Org Highlight count=64.\"\n",
      "      },\n",
      "      \"chunk_id\": \"0\"\n",
      "    },\n",
      "    {\n",
      "      \"content\": \"Hab\\u00eda una vez, en un lejano reino, una joven llamada Cenicienta. Tras la muerte de su amado padre, qued\\u00f3 a merced de su malvada madrastra y sus dos crueles hermanastras. Obligada a realizar todas las tareas del hogar, Cenicienta so\\u00f1aba con escapar de su triste destino.\\r\\n\\r\\nUn d\\u00eda, el rey anunci\\u00f3 un gran baile en el castillo, al que asistir\\u00edan todos los j\\u00f3venes del reino, incluido el pr\\u00edncipe, quien buscar\\u00eda una esposa. Las hermanastras de Cenicienta estaban emocionadas por la oportunidad de conquistar al pr\\u00edncipe, mientras que ella se resignaba a quedarse en casa.\\r\\n\\r\\nPero la hada madrina de Cenicienta, conmovida por su tristeza, apareci\\u00f3 y transform\\u00f3 una simple calabaza en una hermosa carroza, a los ratones en elegantes caballos, y los harapos de Cenicienta en un deslumbrante vestido de seda. Sin embargo, advirti\\u00f3 a Cenicienta que deb\\u00eda regresar antes de la medianoche, cuando el hechizo se desvanecer\\u00eda.\\r\\n\\r\\nEn el baile, Cenicienta captur\\u00f3 la atenci\\u00f3n de todos, incluido el pr\\u00edncipe, quien qued\\u00f3 cautivado por su belleza y encanto. Bailaron toda la noche, pero cuando el reloj comenz\\u00f3 a marcar la medianoche, Cenicienta record\\u00f3 las palabras de su hada madrina y escap\\u00f3 apresuradamente, dejando atr\\u00e1s uno de sus zapatitos de cristal.\\r\\n\\r\\nEl pr\\u00edncipe, determinado a encontrar a la misteriosa doncella, recorri\\u00f3 el reino buscando a la due\\u00f1a del zapatito de cristal. Finalmente, lleg\\u00f3 a la casa de Cenicienta, donde las hermanastras intentaron en vano encajar en el zapatito. Pero cuando Cenicienta lo prob\\u00f3, encaj\\u00f3 perfectamente.\\r\\n\\r\\nEl pr\\u00edncipe, emocionado al encontrar a su amada, la llev\\u00f3 al castillo donde se casaron y vivieron felices para siempre. Y Cenicienta nunca olvid\\u00f3 la generosidad de su hada madrina ni la importancia de la bondad en su coraz\\u00f3n\",\n",
      "      \"id\": null,\n",
      "      \"title\": \"Hab\\u00eda una vez, en un lejano reino, una joven llamada Cenicienta. Tras la muerte de su amado padre, qued\\u00f3 a merced de su malvada madrastra y sus dos crueles hermanastras\",\n",
      "      \"filepath\": \"cenicienta.txt\",\n",
      "      \"url\": \"https://lilsa.blob.core.windows.net/aais-data/cenicienta.txt\",\n",
      "      \"metadata\": {\n",
      "        \"chunking\": \"orignal document size=646. Scores=1.5749912Org Highlight count=28.\"\n",
      "      },\n",
      "      \"chunk_id\": \"0\"\n",
      "    },\n",
      "    {\n",
      "      \"content\": \"Hab\\u00eda una vez en un tranquilo pueblo en las afueras de la ciudad, un peque\\u00f1o cachorro de beagle llamado Max. Con sus orejas ca\\u00eddas y su cola en constante movimiento, Max era el centro de atenci\\u00f3n en todas partes a donde iba.\\r\\n\\r\\nMax viv\\u00eda con una familia amorosa que lo cuidaba y mimaba. Su due\\u00f1a, Clara, lo llevaba a pasear por el parque todas las ma\\u00f1anas. Max disfrutaba corretear por el c\\u00e9sped verde, olfatear todas las flores y saludar a otros perros que conoc\\u00eda en el camino.\\r\\n\\r\\nUn d\\u00eda soleado, mientras jugaba en el parque, Max se encontr\\u00f3 con un nuevo amigo, un cachorro de golden retriever llamado Luna. Desde el primer momento, Max y Luna se llevaron de maravilla. Juntos, exploraban cada rinc\\u00f3n del parque, compart\\u00edan juguetes y se divert\\u00edan persigui\\u00e9ndose el uno al otro.\\r\\n\\r\\nLa amistad entre Max y Luna creci\\u00f3 r\\u00e1pidamente. Se volvieron inseparables y pasaban todo el tiempo juntos. Clara y la due\\u00f1a de Luna, Sof\\u00eda, tambi\\u00e9n se hicieron buenas amigas, y los cuatro pasaban tardes enteras paseando juntas por el pueblo.\\r\\n\\r\\nPero un d\\u00eda, Luna tuvo que mudarse a otro pueblo con su familia. Max se sinti\\u00f3 triste al principio, pero Clara lo consol\\u00f3 y le prometi\\u00f3 que encontrar\\u00edan nuevos amigos juntos.\\r\\n\\r\\nCon el tiempo, Max hizo m\\u00e1s amigos en el pueblo y continu\\u00f3 disfrutando de sus paseos diarios con Clara. Aunque extra\\u00f1aba a Luna, Max aprendi\\u00f3 que siempre habr\\u00eda espacio en su coraz\\u00f3n para nuevos amigos y aventuras. Y as\\u00ed, el peque\\u00f1o cachorro de beagle sigui\\u00f3 viviendo feliz, rodeado del amor de su familia y la emoci\\u00f3n de explorar el mundo que lo rodeaba\",\n",
      "      \"id\": null,\n",
      "      \"title\": \"Hab\\u00eda una vez en un tranquilo pueblo en las afueras de la ciudad, un peque\\u00f1o cachorro de beagle llamado Max. Con sus orejas ca\\u00eddas y su cola en constante movimiento, Max era\",\n",
      "      \"filepath\": \"max_el_cachorro_beagle.txt\",\n",
      "      \"url\": \"https://lilsa.blob.core.windows.net/aais-data/max_el_cachorro_beagle.txt\",\n",
      "      \"metadata\": {\n",
      "        \"chunking\": \"orignal document size=578. Scores=0.90007997Org Highlight count=12.\"\n",
      "      },\n",
      "      \"chunk_id\": \"0\"\n",
      "    }\n",
      "  ],\n",
      "  \"intent\": \"[\\\"\\u00bfPor qu\\u00e9 la reina quer\\u00eda matar a Blanca Nieves?\\\"]\"\n",
      "}\n"
     ]
    }
   ],
   "source": [
    "\n",
    "print(\"Response: \" + response.choices[0].message.content + \"\\n\")\n",
    "\n",
    "print(\"\\nContext information:\\n\")\n",
    "context = response.choices[0].message.context\n",
    "for context_message in context[\"messages\"]:\n",
    "    context_json = json.loads(context_message[\"content\"])\n",
    "    print(json.dumps(context_json, indent=2))"
   ]
  }
 ],
 "metadata": {
  "kernelspec": {
   "display_name": "Python 3",
   "language": "python",
   "name": "python3"
  },
  "language_info": {
   "codemirror_mode": {
    "name": "ipython",
    "version": 3
   },
   "file_extension": ".py",
   "mimetype": "text/x-python",
   "name": "python",
   "nbconvert_exporter": "python",
   "pygments_lexer": "ipython3",
   "version": "3.12.2"
  }
 },
 "nbformat": 4,
 "nbformat_minor": 2
}
