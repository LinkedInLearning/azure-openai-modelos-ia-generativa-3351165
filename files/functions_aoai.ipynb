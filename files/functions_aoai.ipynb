{
 "cells": [
  {
   "cell_type": "markdown",
   "metadata": {},
   "source": [
    "### **Azure OpenAI Function Calling**"
   ]
  },
  {
   "cell_type": "code",
   "execution_count": 1,
   "metadata": {},
   "outputs": [],
   "source": [
    "from openai import AzureOpenAI\n",
    "import json\n",
    "import configparser"
   ]
  },
  {
   "cell_type": "code",
   "execution_count": 2,
   "metadata": {},
   "outputs": [],
   "source": [
    "config = configparser.ConfigParser()\n",
    "config.read('config.ini')\n",
    "api_key = config.get('default', 'AZURE_OPENAI_KEY')\n",
    "api_endpoint = config.get('default','AZURE_OPENAI_ENDPOINT')"
   ]
  },
  {
   "cell_type": "code",
   "execution_count": 3,
   "metadata": {},
   "outputs": [],
   "source": [
    "client = AzureOpenAI(\n",
    "  azure_endpoint = api_endpoint, \n",
    "  api_key=api_key,  \n",
    "  api_version=\"2024-02-15-preview\"\n",
    ")"
   ]
  },
  {
   "cell_type": "code",
   "execution_count": 4,
   "metadata": {},
   "outputs": [],
   "source": [
    "\n",
    "def get_current_stock_price(symbol):\n",
    "    \"\"\"Get the current stock price for a given ticker(symbol)\"\"\"\n",
    "    if \"msft\" in symbol.lower():\n",
    "        return json.dumps({\"symbol\": \"MSFT\", \"price\": \"23\"})\n",
    "    elif \"aapl\" in symbol.lower():\n",
    "        return json.dumps({\"symbol\": \"AAPL\", \"price\":  \"72\"})\n",
    "    elif \"amzn\" in symbol.lower():\n",
    "        return json.dumps({\"symbol\": \"AMZN\", \"price\":  \"22\"})\n",
    "    else:\n",
    "        return json.dumps({\"symbol\": symbol, \"price\": \"unknown\"})"
   ]
  },
  {
   "cell_type": "code",
   "execution_count": 5,
   "metadata": {},
   "outputs": [],
   "source": [
    "tools = [\n",
    "    {\n",
    "        \"type\": \"function\",\n",
    "        \"function\": {\n",
    "            \"name\": \"get_current_stock_price\",\n",
    "            \"description\": \"Get the current stock price\",\n",
    "            \"parameters\": {\n",
    "                \"type\": \"object\",\n",
    "                \"properties\": {\n",
    "                \"symbol\": {\n",
    "                    \"type\": \"string\",\n",
    "                    \"description\": \"It's the symbol of a stock like MSFT\"\n",
    "                }\n",
    "                },\n",
    "                \"required\": [\n",
    "                \"symbol\"\n",
    "                ]\n",
    "            }\n",
    "        },\n",
    "    }\n",
    "]"
   ]
  },
  {
   "cell_type": "code",
   "execution_count": 6,
   "metadata": {},
   "outputs": [],
   "source": [
    "messages = [{\"role\": \"user\", \"content\": \"What's the current stock price for Apple?\"}]"
   ]
  },
  {
   "cell_type": "code",
   "execution_count": 7,
   "metadata": {},
   "outputs": [],
   "source": [
    "response = client.chat.completions.create(\n",
    "    model=\"gpt-4\",\n",
    "    messages=messages,\n",
    "    tools=tools,\n",
    "    tool_choice=\"auto\",\n",
    ")\n",
    "response_message = response.choices[0].message"
   ]
  },
  {
   "cell_type": "code",
   "execution_count": 8,
   "metadata": {},
   "outputs": [
    {
     "data": {
      "text/plain": [
       "ChatCompletionMessage(content=None, role='assistant', function_call=None, tool_calls=[ChatCompletionMessageToolCall(id='call_qTNzrl14kisNroaa5MzfVZMY', function=Function(arguments='{\\n  \"symbol\": \"AAPL\"\\n}', name='get_current_stock_price'), type='function')])"
      ]
     },
     "execution_count": 8,
     "metadata": {},
     "output_type": "execute_result"
    }
   ],
   "source": [
    "response_message"
   ]
  },
  {
   "cell_type": "code",
   "execution_count": 9,
   "metadata": {},
   "outputs": [],
   "source": [
    "tool_calls = response_message.tool_calls"
   ]
  },
  {
   "cell_type": "code",
   "execution_count": 10,
   "metadata": {},
   "outputs": [
    {
     "data": {
      "text/plain": [
       "[ChatCompletionMessageToolCall(id='call_qTNzrl14kisNroaa5MzfVZMY', function=Function(arguments='{\\n  \"symbol\": \"AAPL\"\\n}', name='get_current_stock_price'), type='function')]"
      ]
     },
     "execution_count": 10,
     "metadata": {},
     "output_type": "execute_result"
    }
   ],
   "source": [
    "tool_calls"
   ]
  },
  {
   "cell_type": "code",
   "execution_count": 11,
   "metadata": {},
   "outputs": [],
   "source": [
    "available_functions = {\n",
    "    \"get_current_stock_price\": get_current_stock_price,\n",
    "} \n",
    "\n",
    "messages.append(response_message)  "
   ]
  },
  {
   "cell_type": "code",
   "execution_count": 12,
   "metadata": {},
   "outputs": [
    {
     "name": "stdout",
     "output_type": "stream",
     "text": [
      "[{'role': 'user', 'content': \"What's the current stock price for Apple?\"}, ChatCompletionMessage(content=None, role='assistant', function_call=None, tool_calls=[ChatCompletionMessageToolCall(id='call_qTNzrl14kisNroaa5MzfVZMY', function=Function(arguments='{\\n  \"symbol\": \"AAPL\"\\n}', name='get_current_stock_price'), type='function')]), {'tool_call_id': 'call_qTNzrl14kisNroaa5MzfVZMY', 'role': 'tool', 'name': 'get_current_stock_price', 'content': '{\"symbol\": \"San Francisco\", \"price\": \"72\"}'}]\n",
      "Model Response:\n",
      "The current stock price for Apple is $72.\n"
     ]
    }
   ],
   "source": [
    "for tool_call in tool_calls:\n",
    "    function_name = tool_call.function.name\n",
    "    function_to_call = available_functions[function_name]\n",
    "    function_args = json.loads(tool_call.function.arguments)\n",
    "    function_response = function_to_call(\n",
    "        symbol=function_args.get(\"symbol\")\n",
    "    )\n",
    "    messages.append(\n",
    "        {\n",
    "            \"tool_call_id\": tool_call.id,\n",
    "            \"role\": \"tool\",\n",
    "            \"name\": function_name,\n",
    "            \"content\": function_response,\n",
    "        }\n",
    "    )  \n",
    "    print(messages)\n",
    "second_response = client.chat.completions.create(\n",
    "    model=\"gpt-4\",\n",
    "    messages=messages,\n",
    ")  \n",
    "print(\"Model Response:\")\n",
    "print(second_response.choices[0].message.content) "
   ]
  }
 ],
 "metadata": {
  "kernelspec": {
   "display_name": "Python 3",
   "language": "python",
   "name": "python3"
  },
  "language_info": {
   "codemirror_mode": {
    "name": "ipython",
    "version": 3
   },
   "file_extension": ".py",
   "mimetype": "text/x-python",
   "name": "python",
   "nbconvert_exporter": "python",
   "pygments_lexer": "ipython3",
   "version": "3.12.2"
  }
 },
 "nbformat": 4,
 "nbformat_minor": 2
}
