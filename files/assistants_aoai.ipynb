{
 "cells": [
  {
   "cell_type": "markdown",
   "metadata": {},
   "source": [
    "### **Asssistants API Azure OpenAI**"
   ]
  },
  {
   "cell_type": "code",
   "execution_count": 1,
   "metadata": {},
   "outputs": [],
   "source": [
    "import json\n",
    "from openai import AzureOpenAI\n",
    "import configparser\n",
    "import time"
   ]
  },
  {
   "cell_type": "code",
   "execution_count": 2,
   "metadata": {},
   "outputs": [],
   "source": [
    "config = configparser.ConfigParser()\n",
    "config.read('config.ini')\n",
    "api_key = config.get('default', 'AZURE_OPENAI_KEY')\n",
    "api_endpoint = config.get('default','AZURE_OPENAI_ENDPOINT')"
   ]
  },
  {
   "cell_type": "code",
   "execution_count": 3,
   "metadata": {},
   "outputs": [],
   "source": [
    "client = AzureOpenAI(\n",
    "  azure_endpoint = api_endpoint, \n",
    "  api_key=api_key,  \n",
    "  api_version=\"2024-02-15-preview\"\n",
    ")"
   ]
  },
  {
   "cell_type": "code",
   "execution_count": 21,
   "metadata": {},
   "outputs": [],
   "source": [
    "assistant = client.beta.assistants.create(\n",
    "    name=\"Algebra Tutor\",\n",
    "    instructions=f\"You are a helpful AI assistant who helps with math questions and makes algebra visualizations.\"\n",
    "                 f\"You can create code in sandbox and run it, to answer those questions\",\n",
    "    tools=[{\"type\": \"code_interpreter\"}],\n",
    "    model=\"gpt-4\"\n",
    ")"
   ]
  },
  {
   "cell_type": "code",
   "execution_count": 22,
   "metadata": {},
   "outputs": [
    {
     "name": "stdout",
     "output_type": "stream",
     "text": [
      "Thread(id='thread_6TVa2wiix4oYjvjVNLc81Nkz', created_at=1710373004, metadata={}, object='thread')\n"
     ]
    }
   ],
   "source": [
    "thread = client.beta.threads.create()\n",
    "print(thread)"
   ]
  },
  {
   "cell_type": "code",
   "execution_count": 47,
   "metadata": {},
   "outputs": [],
   "source": [
    "message = client.beta.threads.messages.create(\n",
    "    thread_id=thread.id,\n",
    "    role=\"user\",\n",
    "    content=\"Por favor crea una gráfica de la función y = x^2\"\n",
    ")"
   ]
  },
  {
   "cell_type": "code",
   "execution_count": 48,
   "metadata": {},
   "outputs": [
    {
     "data": {
      "text/plain": [
       "ThreadMessage(id='msg_aC3jShjwxbiStwOdkAf48F4K', assistant_id=None, content=[MessageContentText(text=Text(annotations=[], value='Por favor crea una gráfica de la función y = x^2'), type='text')], created_at=1710375028, file_ids=[], metadata={}, object='thread.message', role='user', run_id=None, thread_id='thread_6TVa2wiix4oYjvjVNLc81Nkz')"
      ]
     },
     "execution_count": 48,
     "metadata": {},
     "output_type": "execute_result"
    }
   ],
   "source": [
    "message"
   ]
  },
  {
   "cell_type": "code",
   "execution_count": 49,
   "metadata": {},
   "outputs": [],
   "source": [
    "run = client.beta.threads.runs.create(\n",
    "  thread_id=thread.id,\n",
    "  assistant_id=assistant.id,\n",
    ")"
   ]
  },
  {
   "cell_type": "code",
   "execution_count": 50,
   "metadata": {},
   "outputs": [],
   "source": [
    "run = client.beta.threads.runs.retrieve(\n",
    "  thread_id=thread.id,\n",
    "  run_id=run.id\n",
    ")"
   ]
  },
  {
   "cell_type": "code",
   "execution_count": 51,
   "metadata": {},
   "outputs": [],
   "source": [
    "status = run.status"
   ]
  },
  {
   "cell_type": "code",
   "execution_count": 52,
   "metadata": {},
   "outputs": [],
   "source": [
    "while status not in [\"completed\", \"cancelled\", \"expired\", \"failed\"]:\n",
    "    time.sleep(5)\n",
    "    run = client.beta.threads.runs.retrieve(thread_id=thread.id,run_id=run.id)\n",
    "    status = run.status"
   ]
  },
  {
   "cell_type": "code",
   "execution_count": 53,
   "metadata": {},
   "outputs": [],
   "source": [
    "messages = client.beta.threads.messages.list(\n",
    "  thread_id=thread.id\n",
    ")"
   ]
  },
  {
   "cell_type": "code",
   "execution_count": 54,
   "metadata": {},
   "outputs": [
    {
     "name": "stdout",
     "output_type": "stream",
     "text": [
      "{\n",
      "  \"data\": [\n",
      "    {\n",
      "      \"id\": \"msg_76K86mg3QijmbqdKPoX0HW27\",\n",
      "      \"assistant_id\": \"asst_SkJdYdfZgk2ClYQ8NHzs0h7Q\",\n",
      "      \"content\": [\n",
      "        {\n",
      "          \"image_file\": {\n",
      "            \"file_id\": \"assistant-jiijKzc4nQLtMj4Pf5YWj647\"\n",
      "          },\n",
      "          \"type\": \"image_file\"\n",
      "        },\n",
      "        {\n",
      "          \"text\": {\n",
      "            \"annotations\": [],\n",
      "            \"value\": \"Aquí tienes el gráfico de la función $y = x^2$. Como puedes ver, es una parábola que se abre hacia arriba con el vértice en el origen (0,0).\"\n",
      "          },\n",
      "          \"type\": \"text\"\n",
      "        }\n",
      "      ],\n",
      "      \"created_at\": 1710375041,\n",
      "      \"file_ids\": [],\n",
      "      \"metadata\": {},\n",
      "      \"object\": \"thread.message\",\n",
      "      \"role\": \"assistant\",\n",
      "      \"run_id\": \"run_x5gBPp8A4ttUU23YSxe3BqHE\",\n",
      "      \"thread_id\": \"thread_6TVa2wiix4oYjvjVNLc81Nkz\"\n",
      "    },\n",
      "    {\n",
      "      \"id\": \"msg_aC3jShjwxbiStwOdkAf48F4K\",\n",
      "      \"assistant_id\": null,\n",
      "      \"content\": [\n",
      "        {\n",
      "          \"text\": {\n",
      "            \"annotations\": [],\n",
      "            \"value\": \"Por favor crea una gráfica de la función y = x^2\"\n",
      "          },\n",
      "          \"type\": \"text\"\n",
      "        }\n",
      "      ],\n",
      "      \"created_at\": 1710375028,\n",
      "      \"file_ids\": [],\n",
      "      \"metadata\": {},\n",
      "      \"object\": \"thread.message\",\n",
      "      \"role\": \"user\",\n",
      "      \"run_id\": null,\n",
      "      \"thread_id\": \"thread_6TVa2wiix4oYjvjVNLc81Nkz\"\n",
      "    },\n",
      "    {\n",
      "      \"id\": \"msg_RxwsyGTMgk8kNqvSVX8wGGAn\",\n",
      "      \"assistant_id\": \"asst_SkJdYdfZgk2ClYQ8NHzs0h7Q\",\n",
      "      \"content\": [\n",
      "        {\n",
      "          \"image_file\": {\n",
      "            \"file_id\": \"assistant-UOpS2AezT5fbFVj5TLd14pA0\"\n",
      "          },\n",
      "          \"type\": \"image_file\"\n",
      "        },\n",
      "        {\n",
      "          \"text\": {\n",
      "            \"annotations\": [],\n",
      "            \"value\": \"Aquí está el gráfico de la función $y = x^2$. Como puedes ver, es una parábola que abre hacia arriba con el vértice en el origen (0,0). \\n\\nLas soluciones de la ecuación $x^2 + 4 = 8$, que son $x = -2$ y $x = 2$, corresponden a los puntos en los que $y = 4$ en el gráfico.\"\n",
      "          },\n",
      "          \"type\": \"text\"\n",
      "        }\n",
      "      ],\n",
      "      \"created_at\": 1710374768,\n",
      "      \"file_ids\": [],\n",
      "      \"metadata\": {},\n",
      "      \"object\": \"thread.message\",\n",
      "      \"role\": \"assistant\",\n",
      "      \"run_id\": \"run_GyMKFh25p0HWQYrNCTfAkWdk\",\n",
      "      \"thread_id\": \"thread_6TVa2wiix4oYjvjVNLc81Nkz\"\n",
      "    },\n",
      "    {\n",
      "      \"id\": \"msg_NSGbARcoj26tYUr5TrZeo2qx\",\n",
      "      \"assistant_id\": null,\n",
      "      \"content\": [\n",
      "        {\n",
      "          \"text\": {\n",
      "            \"annotations\": [],\n",
      "            \"value\": \"Por favor crea una gráfica de la función y = x^2\"\n",
      "          },\n",
      "          \"type\": \"text\"\n",
      "        }\n",
      "      ],\n",
      "      \"created_at\": 1710374746,\n",
      "      \"file_ids\": [],\n",
      "      \"metadata\": {},\n",
      "      \"object\": \"thread.message\",\n",
      "      \"role\": \"user\",\n",
      "      \"run_id\": null,\n",
      "      \"thread_id\": \"thread_6TVa2wiix4oYjvjVNLc81Nkz\"\n",
      "    },\n",
      "    {\n",
      "      \"id\": \"msg_p82YKnEsSYVQUY4iwej1gBAJ\",\n",
      "      \"assistant_id\": \"asst_SkJdYdfZgk2ClYQ8NHzs0h7Q\",\n",
      "      \"content\": [\n",
      "        {\n",
      "          \"text\": {\n",
      "            \"annotations\": [],\n",
      "            \"value\": \"Las soluciones para la ecuación $x^2 + 4 = 8$ son $x = -2$ y $x = 2$.\"\n",
      "          },\n",
      "          \"type\": \"text\"\n",
      "        }\n",
      "      ],\n",
      "      \"created_at\": 1710373027,\n",
      "      \"file_ids\": [],\n",
      "      \"metadata\": {},\n",
      "      \"object\": \"thread.message\",\n",
      "      \"role\": \"assistant\",\n",
      "      \"run_id\": \"run_khtjZxx3UE9DRKWmhgrNKI6f\",\n",
      "      \"thread_id\": \"thread_6TVa2wiix4oYjvjVNLc81Nkz\"\n",
      "    },\n",
      "    {\n",
      "      \"id\": \"msg_CG0rDGkeE48yNVj49AibWGTF\",\n",
      "      \"assistant_id\": \"asst_SkJdYdfZgk2ClYQ8NHzs0h7Q\",\n",
      "      \"content\": [\n",
      "        {\n",
      "          \"text\": {\n",
      "            \"annotations\": [],\n",
      "            \"value\": \"¡Por supuesto! Para resolver la ecuación cuadrática $x^2 + 4 = 8$, primero debemos restar $4$ de ambos lados para obtener $x^2 = 4$. Luego, podemos resolver para $x$ obteniendo la raíz cuadrada de ambos lados.\\n\\nLo haré usando Python.\"\n",
      "          },\n",
      "          \"type\": \"text\"\n",
      "        }\n",
      "      ],\n",
      "      \"created_at\": 1710373016,\n",
      "      \"file_ids\": [],\n",
      "      \"metadata\": {},\n",
      "      \"object\": \"thread.message\",\n",
      "      \"role\": \"assistant\",\n",
      "      \"run_id\": \"run_khtjZxx3UE9DRKWmhgrNKI6f\",\n",
      "      \"thread_id\": \"thread_6TVa2wiix4oYjvjVNLc81Nkz\"\n",
      "    },\n",
      "    {\n",
      "      \"id\": \"msg_uzVcASNDW3Tm1X6tCplO245t\",\n",
      "      \"assistant_id\": null,\n",
      "      \"content\": [\n",
      "        {\n",
      "          \"text\": {\n",
      "            \"annotations\": [],\n",
      "            \"value\": \"¿Me puedes ayudar a resolver la ecuacón x^2 + 4 = 8?\"\n",
      "          },\n",
      "          \"type\": \"text\"\n",
      "        }\n",
      "      ],\n",
      "      \"created_at\": 1710373007,\n",
      "      \"file_ids\": [],\n",
      "      \"metadata\": {},\n",
      "      \"object\": \"thread.message\",\n",
      "      \"role\": \"user\",\n",
      "      \"run_id\": null,\n",
      "      \"thread_id\": \"thread_6TVa2wiix4oYjvjVNLc81Nkz\"\n",
      "    }\n",
      "  ],\n",
      "  \"object\": \"list\",\n",
      "  \"first_id\": \"msg_76K86mg3QijmbqdKPoX0HW27\",\n",
      "  \"last_id\": \"msg_uzVcASNDW3Tm1X6tCplO245t\",\n",
      "  \"has_more\": false\n",
      "}\n"
     ]
    }
   ],
   "source": [
    "print(messages.model_dump_json(indent=2))"
   ]
  },
  {
   "cell_type": "code",
   "execution_count": 55,
   "metadata": {},
   "outputs": [
    {
     "name": "stdout",
     "output_type": "stream",
     "text": [
      "assistant-jiijKzc4nQLtMj4Pf5YWj647\n"
     ]
    }
   ],
   "source": [
    "data = json.loads(messages.model_dump_json(indent=2)) \n",
    "image_file_id = data['data'][0]['content'][0]['image_file']['file_id']\n",
    "\n",
    "print(image_file_id) "
   ]
  },
  {
   "cell_type": "code",
   "execution_count": 56,
   "metadata": {},
   "outputs": [],
   "source": [
    "content = client.files.content(image_file_id)\n",
    "\n",
    "image= content.write_to_file(\"quadratic_function.png\")"
   ]
  },
  {
   "cell_type": "code",
   "execution_count": 57,
   "metadata": {},
   "outputs": [],
   "source": [
    "from PIL import Image\n",
    "\n",
    "image = Image.open(\"quadratic_function.png\")\n",
    "image.show()"
   ]
  },
  {
   "cell_type": "code",
   "execution_count": 32,
   "metadata": {},
   "outputs": [],
   "source": [
    "answer = json.loads(messages.model_dump_json(indent=2))"
   ]
  },
  {
   "cell_type": "code",
   "execution_count": 33,
   "metadata": {},
   "outputs": [
    {
     "name": "stdout",
     "output_type": "stream",
     "text": [
      "assistant: \n",
      "Las soluciones para la ecuación $x^2 + 4 = 8$ son $x = -2$ y $x = 2$.\n",
      "\n",
      "\n",
      "assistant: \n",
      "¡Por supuesto! Para resolver la ecuación cuadrática $x^2 + 4 = 8$, primero debemos restar $4$ de ambos lados para obtener $x^2 = 4$. Luego, podemos resolver para $x$ obteniendo la raíz cuadrada de ambos lados.\n",
      "\n",
      "Lo haré usando Python.\n",
      "\n",
      "\n",
      "user: \n",
      "¿Me puedes ayudar a resolver la ecuacón x^2 + 4 = 8?\n",
      "\n",
      "\n"
     ]
    }
   ],
   "source": [
    "for item in answer['data']:\n",
    "    print(f\"{item['role']}: \")\n",
    "    print(item['content'][0]['text']['value'])\n",
    "    print (\"\\n\")"
   ]
  }
 ],
 "metadata": {
  "kernelspec": {
   "display_name": "Python 3",
   "language": "python",
   "name": "python3"
  },
  "language_info": {
   "codemirror_mode": {
    "name": "ipython",
    "version": 3
   },
   "file_extension": ".py",
   "mimetype": "text/x-python",
   "name": "python",
   "nbconvert_exporter": "python",
   "pygments_lexer": "ipython3",
   "version": "3.12.2"
  }
 },
 "nbformat": 4,
 "nbformat_minor": 2
}
