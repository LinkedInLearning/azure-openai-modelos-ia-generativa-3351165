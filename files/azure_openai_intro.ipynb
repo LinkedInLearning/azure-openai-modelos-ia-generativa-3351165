{
 "cells": [
  {
   "cell_type": "markdown",
   "metadata": {},
   "source": [
    "## **Prompts**"
   ]
  },
  {
   "cell_type": "code",
   "execution_count": 3,
   "metadata": {},
   "outputs": [],
   "source": [
    "from dotenv import load_dotenv\n",
    "import os\n",
    "\n",
    "api_key = os.getenv(\"AZURE_OPENAI_KEY\")\n",
    "api_endpoint = os.getenv(\"AZURE_OPENAI_ENDPOINT\")"
   ]
  },
  {
   "cell_type": "code",
   "execution_count": 12,
   "metadata": {},
   "outputs": [],
   "source": [
    "#Note: The openai-python library support for Azure OpenAI is in preview.\n",
    "#Note: This code sample requires OpenAI Python library version 1.0.0 or higher.\n",
    "import os\n",
    "from openai import AzureOpenAI\n",
    "\n",
    "def chat_with_model(user_message):\n",
    "    api_key = os.getenv(\"AZURE_OPENAI_KEY\")\n",
    "    api_endpoint = os.getenv(\"AZURE_OPENAI_ENDPOINT\")\n",
    "\n",
    "    client = AzureOpenAI(\n",
    "    azure_endpoint = api_endpoint, \n",
    "    api_key=api_key,  \n",
    "    api_version=\"2024-02-15-preview\"\n",
    "    )\n",
    "\n",
    "    message_text = [{\"role\":\"system\",\"content\":\"You are an AI assistant that helps people find information.\"},\n",
    "                    {\"role\":\"user\", \"content\":user_message}]\n",
    "\n",
    "    response = client.chat.completions.create(\n",
    "    model=\"gpt-35-turbo\", \n",
    "    messages = message_text,\n",
    "    temperature=0.7,\n",
    "    max_tokens=800,\n",
    "    top_p=0.95,\n",
    "    frequency_penalty=0,\n",
    "    presence_penalty=0,\n",
    "    stop=None\n",
    "    )\n",
    "    \n",
    "    return response.choices[0].message.content"
   ]
  },
  {
   "cell_type": "markdown",
   "metadata": {},
   "source": [
    "#### Zero-shot prompting:\n",
    "- Preguntar al modelo sin ningún contexto adicional"
   ]
  },
  {
   "cell_type": "code",
   "execution_count": 18,
   "metadata": {},
   "outputs": [],
   "source": [
    "zero_shot_prompt = '''\n",
    "            Classify this movie genre:\n",
    "\n",
    "            Dune is set in the distant future in a feudal interstellar society in which various noble houses control planetary fiefs.\n",
    "            It tells the story of young Paul Atreides, whose family accepts the stewardship of the planet Arrakis.\n",
    "            While the planet is an inhospitable and sparsely populated desert wasteland, it is the only source of melange,\n",
    "            or \"spice\", a drug that extends life and enhances mental abilities.\n",
    "        '''"
   ]
  },
  {
   "cell_type": "code",
   "execution_count": 27,
   "metadata": {},
   "outputs": [
    {
     "name": "stdout",
     "output_type": "stream",
     "text": [
      "Based on the description provided, the movie genre of Dune can be classified as science fiction or space opera.\n"
     ]
    }
   ],
   "source": [
    "print(chat_with_model(zero_shot_prompt))"
   ]
  },
  {
   "cell_type": "markdown",
   "metadata": {},
   "source": [
    "#### Few-shot prompting\n",
    "- Condicionando al modelo con ejemplos para mejor performance"
   ]
  },
  {
   "cell_type": "code",
   "execution_count": 28,
   "metadata": {},
   "outputs": [],
   "source": [
    "few_shot_prompt = '''\n",
    "            Classify this movie genre. It could be science fiction, romantic-comedy, thriller\n",
    "\n",
    "            Dune is set in the distant future in a feudal interstellar society in which various noble houses control planetary fiefs.\n",
    "            It tells the story of young Paul Atreides, whose family accepts the stewardship of the planet Arrakis.\n",
    "            While the planet is an inhospitable and sparsely populated desert wasteland, it is the only source of melange,\n",
    "            or \"spice\", a drug that extends life and enhances mental abilities.\n",
    "            \n",
    "        '''"
   ]
  },
  {
   "cell_type": "code",
   "execution_count": 29,
   "metadata": {},
   "outputs": [
    {
     "name": "stdout",
     "output_type": "stream",
     "text": [
      "Based on the given plot summary, the movie genre of Dune would be science fiction.\n"
     ]
    }
   ],
   "source": [
    "print(chat_with_model(few_shot_prompt))"
   ]
  },
  {
   "cell_type": "markdown",
   "metadata": {},
   "source": [
    "#### Using delimiters\n",
    "- Añade tokens especiales o frases para proveer estructura e instrucciones al modelo"
   ]
  },
  {
   "cell_type": "code",
   "execution_count": 30,
   "metadata": {},
   "outputs": [],
   "source": [
    "delimiters_prompt = '''\n",
    "            Classify this movie genre. It could be science fiction, romantic-comedy, thriller\n",
    "\n",
    "            Dune is set in the distant future in a feudal interstellar society in which various noble houses control planetary fiefs.\n",
    "            It tells the story of young Paul Atreides, whose family accepts the stewardship of the planet Arrakis.\n",
    "            While the planet is an inhospitable and sparsely populated desert wasteland, it is the only source of melange,\n",
    "            or \"spice\", a drug that extends life and enhances mental abilities.\n",
    "            \n",
    "            Give the answer in this format:\n",
    "            \n",
    "            Title: [MOVIE TITLE]\n",
    "            Genre: [MOVIE GENRE]\n",
    "            \n",
    "        '''"
   ]
  },
  {
   "cell_type": "code",
   "execution_count": 31,
   "metadata": {},
   "outputs": [
    {
     "name": "stdout",
     "output_type": "stream",
     "text": [
      "Title: Dune\n",
      "Genre: Science fiction\n"
     ]
    }
   ],
   "source": [
    "print(chat_with_model(delimiters_prompt))"
   ]
  },
  {
   "cell_type": "markdown",
   "metadata": {},
   "source": [
    "#### Breaking down prompt\n",
    "- Desglosar un prompt complejo en una serie de pasos pequeños y específicos."
   ]
  },
  {
   "cell_type": "code",
   "execution_count": 34,
   "metadata": {},
   "outputs": [],
   "source": [
    "break_down_prompt = '''\n",
    "            Given the following movie description:\n",
    "        \n",
    "            Dune is set in the distant future in a feudal interstellar society in which various noble houses control planetary fiefs.\n",
    "            It tells the story of young Paul Atreides, whose family accepts the stewardship of the planet Arrakis.\n",
    "            While the planet is an inhospitable and sparsely populated desert wasteland, it is the only source of melange,\n",
    "            or \"spice\", a drug that extends life and enhances mental abilities.\n",
    "            \n",
    "            1. Classify the movie genre. It could be science fiction, romantic-comedy, thriller\n",
    "            2. Extract key words from movie description\n",
    "            3. Give the answer in this format:\n",
    "            \n",
    "                Title: [MOVIE TITLE]\n",
    "                Genre: [MOVIE GENRE]\n",
    "                Keywords: [DESCRIPTION KEYWORDS]\n",
    "            \n",
    "        '''"
   ]
  },
  {
   "cell_type": "code",
   "execution_count": 35,
   "metadata": {},
   "outputs": [
    {
     "name": "stdout",
     "output_type": "stream",
     "text": [
      "Title: Dune\n",
      "Genre: Science Fiction\n",
      "Keywords: distant future, feudal interstellar society, noble houses, planetary fiefs, stewardship, planet Arrakis, inhospitable, sparsely populated, desert wasteland, melange, spice, drug, extends life, enhances mental abilities.\n"
     ]
    }
   ],
   "source": [
    "print (chat_with_model(break_down_prompt))"
   ]
  }
 ],
 "metadata": {
  "kernelspec": {
   "display_name": "Python 3",
   "language": "python",
   "name": "python3"
  },
  "language_info": {
   "codemirror_mode": {
    "name": "ipython",
    "version": 3
   },
   "file_extension": ".py",
   "mimetype": "text/x-python",
   "name": "python",
   "nbconvert_exporter": "python",
   "pygments_lexer": "ipython3",
   "version": "3.12.2"
  }
 },
 "nbformat": 4,
 "nbformat_minor": 2
}
