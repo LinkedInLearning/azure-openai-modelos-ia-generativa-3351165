{
 "cells": [
  {
   "cell_type": "code",
   "execution_count": null,
   "metadata": {},
   "outputs": [],
   "source": [
    "! pip install load_dotenv"
   ]
  },
  {
   "cell_type": "code",
   "execution_count": null,
   "metadata": {},
   "outputs": [],
   "source": [
    "! pip install langchain-openai"
   ]
  },
  {
   "cell_type": "code",
   "execution_count": 6,
   "metadata": {},
   "outputs": [],
   "source": [
    "import os\n",
    "from dotenv import load_dotenv, find_dotenv\n",
    "load_dotenv(find_dotenv())\n",
    "\n",
    "os.environ['OPENAI_API_KEY']=os.getenv(\"OPENAI_API_KEY\")"
   ]
  },
  {
   "cell_type": "markdown",
   "metadata": {},
   "source": [
    "### Componentes de LangChain"
   ]
  },
  {
   "cell_type": "markdown",
   "metadata": {},
   "source": [
    "Prompt Templates"
   ]
  },
  {
   "cell_type": "code",
   "execution_count": 1,
   "metadata": {},
   "outputs": [
    {
     "data": {
      "text/plain": [
       "'Dime un título gracioso para una película de acción.'"
      ]
     },
     "execution_count": 1,
     "metadata": {},
     "output_type": "execute_result"
    }
   ],
   "source": [
    "from langchain_core.prompts import PromptTemplate\n",
    "\n",
    "prompt_template = PromptTemplate.from_template(\n",
    "    \"Dime un título {adjective} para una película de {content}.\"\n",
    ")\n",
    "prompt_template.format(adjective=\"gracioso\", content=\"acción\")"
   ]
  },
  {
   "cell_type": "code",
   "execution_count": 2,
   "metadata": {},
   "outputs": [],
   "source": [
    "from langchain_core.prompts import ChatPromptTemplate\n",
    "\n",
    "chat_template = ChatPromptTemplate.from_messages(\n",
    "    [\n",
    "        (\"system\", \"Eres un asistente de IA. Tu nombre es {name}.\"),\n",
    "        (\"human\", \"¿Cómo estás?\"),\n",
    "        (\"ai\", \"Estoy bien, gracias.\"),\n",
    "        (\"human\", \"{user_input}\"),\n",
    "    ]\n",
    ")\n",
    "\n",
    "messages = chat_template.format_messages(name=\"María\", user_input=\"¿Cómo te llamas?\")"
   ]
  },
  {
   "cell_type": "code",
   "execution_count": 3,
   "metadata": {},
   "outputs": [
    {
     "data": {
      "text/plain": [
       "[SystemMessage(content='Eres un asistente de IA. Tu nombre es María.'),\n",
       " HumanMessage(content='¿Cómo estás?'),\n",
       " AIMessage(content='Estoy bien, gracias.'),\n",
       " HumanMessage(content='¿Cómo te llamas?')]"
      ]
     },
     "execution_count": 3,
     "metadata": {},
     "output_type": "execute_result"
    }
   ],
   "source": [
    "messages"
   ]
  },
  {
   "cell_type": "markdown",
   "metadata": {},
   "source": [
    "Chat Models"
   ]
  },
  {
   "cell_type": "code",
   "execution_count": 4,
   "metadata": {},
   "outputs": [],
   "source": [
    "from langchain_openai import ChatOpenAI\n",
    "\n",
    "chat = ChatOpenAI(model=\"gpt-3.5-turbo-0125\")"
   ]
  },
  {
   "cell_type": "code",
   "execution_count": 6,
   "metadata": {},
   "outputs": [],
   "source": [
    "messages = chat_template.format_messages(name=\"María\", user_input=\"Crea una canción sobre la Eurocopa\")"
   ]
  },
  {
   "cell_type": "code",
   "execution_count": 7,
   "metadata": {},
   "outputs": [
    {
     "data": {
      "text/plain": [
       "AIMessage(content='(Verse 1)\\nEn el campo de juego brillan las estrellas,\\nLa emoción se siente en cada esquina,\\nLa Eurocopa nos une a todos,\\nEn cada partido la pasión no termina.\\n\\n(Chorus)\\nEurocopa, un sueño de grandeza,\\nDonde el fútbol nos hace soñar,\\nCon cada gol, con cada destreza,\\nLa gloria nos invita a celebrar.\\n\\n(Verse 2)\\nLos equipos luchan con valentía,\\nPor representar a su nación,\\nEn cada encuentro, en cada alegría,\\nSe escribe una nueva historia en el corazón.\\n\\n(Chorus)\\nEurocopa, un sueño de grandeza,\\nDonde el fútbol nos hace soñar,\\nCon cada gol, con cada destreza,\\nLa gloria nos invita a celebrar.\\n\\n(Bridge)\\nEl balón rueda en busca de la red,\\nLa afición grita con fervor,\\nEn la Eurocopa todo puede suceder,\\nEl espíritu del juego nos llena de valor.\\n\\n(Chorus)\\nEurocopa, un sueño de grandeza,\\nDonde el fútbol nos hace soñar,\\nCon cada gol, con cada destreza,\\nLa gloria nos invita a celebrar.\\n\\n(Outro)\\nQue viva la Eurocopa, que viva el fútbol,\\nEn cada partido se vive la emoción,\\nQue retumbe el estadio con un solo grito,\\n¡Eurocopa, eres nuestra pasión!', additional_kwargs={'refusal': None}, response_metadata={'token_usage': {'completion_tokens': 339, 'prompt_tokens': 54, 'total_tokens': 393}, 'model_name': 'gpt-3.5-turbo-0125', 'system_fingerprint': None, 'finish_reason': 'stop', 'logprobs': None}, id='run-cfcfb8bd-6491-4311-b715-57054e7e49fe-0', usage_metadata={'input_tokens': 54, 'output_tokens': 339, 'total_tokens': 393})"
      ]
     },
     "execution_count": 7,
     "metadata": {},
     "output_type": "execute_result"
    }
   ],
   "source": [
    "chat.invoke(messages)"
   ]
  },
  {
   "cell_type": "code",
   "execution_count": 9,
   "metadata": {},
   "outputs": [
    {
     "name": "stdout",
     "output_type": "stream",
     "text": [
      "(Nota: Esta es una canción ficticia creada para este propósito)\n",
      "\n",
      "Título: \"Campeones de Europa\"\n",
      "\n",
      "Verso 1:\n",
      "En el campo brillan estrellas,\n",
      "La emoción en el aire se siente,\n",
      "Jugadores luchando en la cancha,\n",
      "Por la gloria que les pertenece.\n",
      "\n",
      "Coro:\n",
      "¡Campeones de Europa, vamos a ganar!\n",
      "La pasión del fútbol nos hace soñar,\n",
      "En cada gol se escucha el rugir,\n",
      "De una afición que no para de vivir.\n",
      "\n",
      "Verso 2:\n",
      "Desde España hasta Italia,\n",
      "Francia, Alemania y más,\n",
      "El balón rueda con destreza,\n",
      "En cada país la pasión no tiene paz.\n",
      "\n",
      "Coro:\n",
      "¡Campeones de Europa, vamos a ganar!\n",
      "La emoción del juego nos hace vibrar,\n",
      "En cada partido la tensión se siente,\n",
      "Pero al final, la victoria es nuestra mente.\n",
      "\n",
      "Puente:\n",
      "El trofeo brilla en el horizonte,\n",
      "La Eurocopa es nuestro desafío,\n",
      "Jugaremos con el corazón fuerte,\n",
      "Porque juntos somos el mejor equipo unido.\n",
      "\n",
      "Coro:\n",
      "¡Campeones de Europa, vamos a triunfar!\n",
      "En el campo demostramos nuestro arte,\n",
      "Con cada jugada, con cada gol,\n",
      "Mostramos al mundo nuestro fútbol total.\n",
      "\n",
      "Final:\n",
      "La Eurocopa es nuestro destino,\n",
      "Juntos celebramos la victoria,\n",
      "Somos campeones de Europa,\n",
      "Y en nuestros corazones queda la gloria."
     ]
    }
   ],
   "source": [
    "for chunk in chat.stream(messages):\n",
    "    print(chunk.content, end=\"\", flush=True)"
   ]
  },
  {
   "cell_type": "markdown",
   "metadata": {},
   "source": [
    "LCEL y Chains en LangChain"
   ]
  },
  {
   "cell_type": "code",
   "execution_count": 10,
   "metadata": {},
   "outputs": [
    {
     "name": "stdout",
     "output_type": "stream",
     "text": [
      "\n",
      "\n",
      "The capital of France is Paris.\n"
     ]
    }
   ],
   "source": [
    "from langchain_core.prompts import PromptTemplate\n",
    "from langchain_openai import OpenAI\n",
    "\n",
    "# Definir un prompt y un modelo\n",
    "prompt = PromptTemplate.from_template(\"What is the capital of {country}?\")\n",
    "model = OpenAI(model_name=\"gpt-3.5-turbo-instruct\", temperature=0.0)\n",
    "\n",
    "# Crear una chain combinando el prompt y el modelo\n",
    "chain = prompt | model\n",
    "\n",
    "# Ejecutar la chain con un input específico\n",
    "result = chain.invoke({\"country\": \"France\"})\n",
    "print(result) \n"
   ]
  },
  {
   "cell_type": "code",
   "execution_count": null,
   "metadata": {},
   "outputs": [],
   "source": [
    "! pip install langchain-community"
   ]
  },
  {
   "cell_type": "code",
   "execution_count": null,
   "metadata": {},
   "outputs": [],
   "source": [
    "from langchain_community.chat_models import ChatOpenAI\n",
    "from langchain_core.documents import Document\n",
    "from langchain_core.prompts import ChatPromptTemplate\n",
    "from langchain.chains.combine_documents import create_stuff_documents_chain\n",
    "\n",
    "# Definir el prompt para la cadena\n",
    "prompt = ChatPromptTemplate.from_messages(\n",
    "    [(\"system\", \"What are everyone's favorite colors:\\n\\n{context}\")]\n",
    ")\n",
    "\n",
    "# Definir el modelo de lenguaje\n",
    "llm = ChatOpenAI(model=\"gpt-3.5-turbo\")\n",
    "\n",
    "# Crear la chain que combina documentos\n",
    "chain = create_stuff_documents_chain(llm, prompt)\n",
    "\n",
    "# Crear documentos de ejemplo\n",
    "docs = [\n",
    "    Document(page_content=\"Jesse loves red but not yellow\"),\n",
    "    Document(page_content=\"Jamal loves green but not as much as he loves orange\")\n",
    "]\n",
    "\n",
    "# Ejecutar la chain con los documentos\n",
    "result = chain.invoke({\"context\": docs})\n",
    "print(result)  # Debería imprimir un resumen de los colores favoritos.\n"
   ]
  },
  {
   "cell_type": "markdown",
   "metadata": {},
   "source": [
    "Output Parsers"
   ]
  },
  {
   "cell_type": "code",
   "execution_count": null,
   "metadata": {},
   "outputs": [],
   "source": [
    "! pip install langchain"
   ]
  },
  {
   "cell_type": "code",
   "execution_count": 13,
   "metadata": {},
   "outputs": [
    {
     "name": "stdout",
     "output_type": "stream",
     "text": [
      "title='Cien años de soledad' author='Gabriel García Márquez' publication_year=1967 description='Cien años de soledad es una novela del escritor colombiano Gabriel García Márquez, publicada en 1967. Es considerada una obra maestra de la literatura hispanoamericana y una de las obras más importantes del siglo XX. La historia narra la vida de la familia Buendía en el pueblo ficticio de Macondo, a lo largo de siete generaciones. A través de la magia y el realismo mágico, García Márquez explora temas como el amor, la soledad, la muerte y la identidad latinoamericana.'\n"
     ]
    }
   ],
   "source": [
    "from langchain.output_parsers import PydanticOutputParser\n",
    "from langchain_core.prompts import PromptTemplate\n",
    "from langchain_core.pydantic_v1 import BaseModel, Field, validator\n",
    "from langchain_openai import OpenAI\n",
    "\n",
    "# Inicializar el modelo\n",
    "model = OpenAI(model_name=\"gpt-3.5-turbo-instruct\", temperature=0.0)\n",
    "\n",
    "# Definir la estructura de datos deseada\n",
    "class BookInfo(BaseModel):\n",
    "    title: str = Field(description=\"El título del libro\")\n",
    "    author: str = Field(description=\"El autor del libro\")\n",
    "    publication_year: int = Field(description=\"El año de publicación del libro\")\n",
    "    description: str = Field(description=\"Una breve descripción del libro\")\n",
    "\n",
    "    # Validación personalizada: El año de publicación no debe ser en el futuro\n",
    "    @validator(\"publication_year\")\n",
    "    def year_not_in_future(cls, field):\n",
    "        if field > 2024:  # Asumiendo que el año actual es 2024\n",
    "            raise ValueError(\"El año de publicación no puede ser en el futuro.\")\n",
    "        return field\n",
    "\n",
    "# Configurar el parser e inyectar instrucciones en la plantilla del prompt\n",
    "parser = PydanticOutputParser(pydantic_object=BookInfo)\n",
    "\n",
    "prompt = PromptTemplate(\n",
    "    template=\"Dime información sobre un libro.\\n{format_instructions}\\n{query}\\n\",\n",
    "    input_variables=[\"query\"],\n",
    "    partial_variables={\"format_instructions\": parser.get_format_instructions()},\n",
    ")\n",
    "\n",
    "# Crear la consulta para solicitar al modelo que rellene la estructura de datos\n",
    "prompt_and_model = prompt | model\n",
    "output = prompt_and_model.invoke({\"query\": \"Dame información sobre el libro 'Cien años de soledad'.\"})\n",
    "book_info = parser.parse(output)\n",
    "\n",
    "# Mostrar el resultado estructurado\n",
    "print(book_info)\n"
   ]
  },
  {
   "cell_type": "markdown",
   "metadata": {},
   "source": [
    "Ejemplo de Chain Uniendo varios componentes"
   ]
  },
  {
   "cell_type": "code",
   "execution_count": 14,
   "metadata": {},
   "outputs": [
    {
     "name": "stdout",
     "output_type": "stream",
     "text": [
      "title='Cien años de soledad' author='Gabriel García Márquez' publication_year=1967 description='Cien años de soledad es una novela del escritor colombiano Gabriel García Márquez, publicada en 1967. Es considerada una obra maestra de la literatura hispanoamericana y una de las obras más importantes del siglo XX. La historia narra la vida de la familia Buendía en el pueblo ficticio de Macondo, a lo largo de siete generaciones. A través de la magia y el realismo mágico, García Márquez explora temas como el amor, la soledad, la muerte y la identidad latinoamericana.'\n"
     ]
    }
   ],
   "source": [
    "book_info = prompt | model | parser\n",
    "\n",
    "# Mostrar el resultado estructurado\n",
    "print(book_info.invoke({\"query\": \"Dame información sobre el libro 'Cien años de soledad'.\"}))"
   ]
  }
 ],
 "metadata": {
  "kernelspec": {
   "display_name": ".venv",
   "language": "python",
   "name": "python3"
  },
  "language_info": {
   "codemirror_mode": {
    "name": "ipython",
    "version": 3
   },
   "file_extension": ".py",
   "mimetype": "text/x-python",
   "name": "python",
   "nbconvert_exporter": "python",
   "pygments_lexer": "ipython3",
   "version": "3.12.5"
  }
 },
 "nbformat": 4,
 "nbformat_minor": 2
}
