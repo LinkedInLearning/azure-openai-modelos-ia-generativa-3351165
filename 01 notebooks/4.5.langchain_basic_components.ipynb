{
 "cells": [
  {
   "cell_type": "code",
   "execution_count": null,
   "metadata": {},
   "outputs": [],
   "source": [
    "! pip install load_dotenv"
   ]
  },
  {
   "cell_type": "code",
   "execution_count": null,
   "metadata": {},
   "outputs": [],
   "source": [
    "! pip install langchain-openai"
   ]
  },
  {
   "cell_type": "code",
   "execution_count": 6,
   "metadata": {},
   "outputs": [],
   "source": [
    "import os\n",
    "from dotenv import load_dotenv, find_dotenv\n",
    "load_dotenv(find_dotenv())\n",
    "\n",
    "os.environ['OPENAI_API_KEY']=os.getenv(\"OPENAI_API_KEY\")"
   ]
  },
  {
   "cell_type": "markdown",
   "metadata": {},
   "source": [
    "### Componentes de LangChain"
   ]
  },
  {
   "cell_type": "markdown",
   "metadata": {},
   "source": [
    "Prompts"
   ]
  },
  {
   "cell_type": "code",
   "execution_count": 7,
   "metadata": {},
   "outputs": [
    {
     "data": {
      "text/plain": [
       "'Dime un título gracioso para una película de acción.'"
      ]
     },
     "execution_count": 7,
     "metadata": {},
     "output_type": "execute_result"
    }
   ],
   "source": [
    "from langchain_core.prompts import PromptTemplate\n",
    "\n",
    "prompt_template = PromptTemplate.from_template(\n",
    "    \"Dime un título {adjective} para una película de {content}.\"\n",
    ")\n",
    "prompt_template.format(adjective=\"gracioso\", content=\"acción\")"
   ]
  },
  {
   "cell_type": "code",
   "execution_count": 12,
   "metadata": {},
   "outputs": [],
   "source": [
    "from langchain_core.prompts import ChatPromptTemplate\n",
    "\n",
    "chat_template = ChatPromptTemplate.from_messages(\n",
    "    [\n",
    "        (\"system\", \"Eres un asistente de IA. Tu nombre es {name}.\"),\n",
    "        (\"human\", \"¿Cómo estás?\"),\n",
    "        (\"ai\", \"Estoy bien, gracias.\"),\n",
    "        (\"human\", \"{user_input}\"),\n",
    "    ]\n",
    ")\n",
    "\n",
    "messages = chat_template.format_messages(name=\"María\", user_input=\"¿Cómo te llamas?\")"
   ]
  },
  {
   "cell_type": "code",
   "execution_count": 9,
   "metadata": {},
   "outputs": [
    {
     "data": {
      "text/plain": [
       "[SystemMessage(content='Eres un asistente de IA. Tu nombre es Bob.'),\n",
       " HumanMessage(content='¿Cómo estás?'),\n",
       " AIMessage(content='Estoy bien, gracias.'),\n",
       " HumanMessage(content='¿Cómo te llamas?')]"
      ]
     },
     "execution_count": 9,
     "metadata": {},
     "output_type": "execute_result"
    }
   ],
   "source": [
    "messages"
   ]
  },
  {
   "cell_type": "markdown",
   "metadata": {},
   "source": [
    "Chat Models"
   ]
  },
  {
   "cell_type": "code",
   "execution_count": 10,
   "metadata": {},
   "outputs": [],
   "source": [
    "from langchain_openai import ChatOpenAI\n",
    "\n",
    "chat = ChatOpenAI(model=\"gpt-3.5-turbo-0125\")"
   ]
  },
  {
   "cell_type": "code",
   "execution_count": 17,
   "metadata": {},
   "outputs": [],
   "source": [
    "messages = chat_template.format_messages(name=\"María\", user_input=\"¿Crea una canción sobre la Eurocopa?\")"
   ]
  },
  {
   "cell_type": "code",
   "execution_count": 18,
   "metadata": {},
   "outputs": [
    {
     "data": {
      "text/plain": [
       "AIMessage(content='Claro, aquí tienes una canción improvisada sobre la Eurocopa:\\n\\n(Verse 1)\\nEn el campo de fútbol brillan las estrellas,\\nLa emoción se siente en cada esquina,\\nLas selecciones luchan con fuerza y destreza,\\nPor levantar la copa, esa es su rutina.\\n\\n(Coro)\\nEurocopa, pasión y emoción,\\nGoles y victorias en cada ocasión,\\nLa afición se une con un solo corazón,\\nCelebrando juntos esta competición.\\n\\n(Verse 2)\\nLos jugadores corren tras el balón,\\nDefendiendo su país con honor,\\nEl balón rueda de un lado a otro sin cesar,\\nEn busca del gol que haga vibrar.\\n\\n(Coro)\\nEurocopa, pasión y emoción,\\nGoles y victorias en cada ocasión,\\nLa afición se une con un solo corazón,\\nCelebrando juntos esta competición.\\n\\n(Estribillo)\\nEurocopa, fiesta de fútbol y pasión,\\nUniendo países en cada canción,\\nQue retumbe el estadio con alegría,\\nPorque en la Eurocopa la emoción nunca se olvida.\\n\\nEspero que te haya gustado la canción. ¡Vamos Eurocopa!', additional_kwargs={'refusal': None}, response_metadata={'token_usage': {'completion_tokens': 283, 'prompt_tokens': 56, 'total_tokens': 339}, 'model_name': 'gpt-3.5-turbo-0125', 'system_fingerprint': None, 'finish_reason': 'stop', 'logprobs': None}, id='run-ed9cfbfa-1ec8-4d79-9454-3377a5b1f2a8-0', usage_metadata={'input_tokens': 56, 'output_tokens': 283, 'total_tokens': 339})"
      ]
     },
     "execution_count": 18,
     "metadata": {},
     "output_type": "execute_result"
    }
   ],
   "source": [
    "chat.invoke(messages)"
   ]
  },
  {
   "cell_type": "code",
   "execution_count": null,
   "metadata": {},
   "outputs": [],
   "source": [
    "for chunk in chat.stream(messages):\n",
    "    print(chunk.content, end=\"\", flush=True)"
   ]
  },
  {
   "cell_type": "markdown",
   "metadata": {},
   "source": [
    "Output Parsers"
   ]
  },
  {
   "cell_type": "code",
   "execution_count": null,
   "metadata": {},
   "outputs": [],
   "source": [
    "! pip install langchain"
   ]
  },
  {
   "cell_type": "code",
   "execution_count": 32,
   "metadata": {},
   "outputs": [
    {
     "name": "stdout",
     "output_type": "stream",
     "text": [
      "title='Cien años de soledad' author='Gabriel García Márquez' publication_year=1967 description='Cien años de soledad es una novela del escritor colombiano Gabriel García Márquez, publicada en 1967. Es considerada una obra maestra de la literatura hispanoamericana y una de las obras más importantes del siglo XX. La historia narra la vida de la familia Buendía en el pueblo ficticio de Macondo, a lo largo de siete generaciones. A través de la magia y el realismo mágico, García Márquez explora temas como el amor, la soledad, la muerte y la identidad latinoamericana.'\n"
     ]
    }
   ],
   "source": [
    "from langchain.output_parsers import PydanticOutputParser\n",
    "from langchain_core.prompts import PromptTemplate\n",
    "from langchain_core.pydantic_v1 import BaseModel, Field, validator\n",
    "from langchain_openai import OpenAI\n",
    "\n",
    "# Inicializar el modelo\n",
    "model = OpenAI(model_name=\"gpt-3.5-turbo-instruct\", temperature=0.0)\n",
    "\n",
    "# Definir la estructura de datos deseada\n",
    "class BookInfo(BaseModel):\n",
    "    title: str = Field(description=\"El título del libro\")\n",
    "    author: str = Field(description=\"El autor del libro\")\n",
    "    publication_year: int = Field(description=\"El año de publicación del libro\")\n",
    "    description: str = Field(description=\"Una breve descripción del libro\")\n",
    "\n",
    "    # Validación personalizada: El año de publicación no debe ser en el futuro\n",
    "    @validator(\"publication_year\")\n",
    "    def year_not_in_future(cls, field):\n",
    "        if field > 2024:  # Asumiendo que el año actual es 2024\n",
    "            raise ValueError(\"El año de publicación no puede ser en el futuro.\")\n",
    "        return field\n",
    "\n",
    "# Configurar el parser e inyectar instrucciones en la plantilla del prompt\n",
    "parser = PydanticOutputParser(pydantic_object=BookInfo)\n",
    "\n",
    "prompt = PromptTemplate(\n",
    "    template=\"Dime información sobre un libro.\\n{format_instructions}\\n{query}\\n\",\n",
    "    input_variables=[\"query\"],\n",
    "    partial_variables={\"format_instructions\": parser.get_format_instructions()},\n",
    ")\n",
    "\n",
    "# Crear la consulta para solicitar al modelo que rellene la estructura de datos\n",
    "prompt_and_model = prompt | model\n",
    "output = prompt_and_model.invoke({\"query\": \"Dame información sobre el libro 'Cien años de soledad'.\"})\n",
    "book_info = parser.parse(output)\n",
    "\n",
    "# Mostrar el resultado estructurado\n",
    "print(book_info)\n"
   ]
  },
  {
   "cell_type": "markdown",
   "metadata": {},
   "source": [
    "Ejemplo de Chain Uniendo varios componentes"
   ]
  },
  {
   "cell_type": "code",
   "execution_count": 33,
   "metadata": {},
   "outputs": [
    {
     "name": "stdout",
     "output_type": "stream",
     "text": [
      "title='Cien años de soledad' author='Gabriel García Márquez' publication_year=1967 description='Cien años de soledad es una novela del escritor colombiano Gabriel García Márquez, publicada en 1967. Es considerada una obra maestra de la literatura hispanoamericana y una de las obras más importantes del siglo XX. La historia narra la vida de la familia Buendía en el pueblo ficticio de Macondo, a lo largo de siete generaciones. A través de la magia y el realismo mágico, García Márquez explora temas como el amor, la soledad, la muerte y la identidad latinoamericana.'\n"
     ]
    }
   ],
   "source": [
    "book_info = prompt | model | parser\n",
    "\n",
    "# Mostrar el resultado estructurado\n",
    "print(book_info.invoke({\"query\": \"Dame información sobre el libro 'Cien años de soledad'.\"}))"
   ]
  },
  {
   "cell_type": "markdown",
   "metadata": {},
   "source": [
    "LCEL y Chains en LangChain"
   ]
  },
  {
   "cell_type": "code",
   "execution_count": 34,
   "metadata": {},
   "outputs": [
    {
     "name": "stdout",
     "output_type": "stream",
     "text": [
      "\n",
      "\n",
      "The capital of France is Paris.\n"
     ]
    }
   ],
   "source": [
    "from langchain_core.prompts import PromptTemplate\n",
    "from langchain_openai import OpenAI\n",
    "\n",
    "# Definir un prompt y un modelo\n",
    "prompt = PromptTemplate.from_template(\"What is the capital of {country}?\")\n",
    "model = OpenAI(model_name=\"gpt-3.5-turbo-instruct\", temperature=0.0)\n",
    "\n",
    "# Crear una chain combinando el prompt y el modelo\n",
    "chain = prompt | model\n",
    "\n",
    "# Ejecutar la chain con un input específico\n",
    "result = chain.invoke({\"country\": \"France\"})\n",
    "print(result)  # Debería imprimir: \"The capital of France is Paris.\"\n"
   ]
  },
  {
   "cell_type": "code",
   "execution_count": null,
   "metadata": {},
   "outputs": [],
   "source": [
    "! pip install langchain-community"
   ]
  },
  {
   "cell_type": "code",
   "execution_count": 37,
   "metadata": {},
   "outputs": [
    {
     "name": "stderr",
     "output_type": "stream",
     "text": [
      "c:\\Users\\Diana\\Desktop\\azure-openai-modelos-ia-generativa-3351165\\.venv\\Lib\\site-packages\\langchain_core\\_api\\deprecation.py:141: LangChainDeprecationWarning: The class `ChatOpenAI` was deprecated in LangChain 0.0.10 and will be removed in 0.3.0. An updated version of the class exists in the langchain-openai package and should be used instead. To use it run `pip install -U langchain-openai` and import as `from langchain_openai import ChatOpenAI`.\n",
      "  warn_deprecated(\n"
     ]
    },
    {
     "name": "stdout",
     "output_type": "stream",
     "text": [
      "\n",
      "\n",
      "Jesse: Red\n",
      "Jamal: Orange\n"
     ]
    }
   ],
   "source": [
    "from langchain_community.chat_models import ChatOpenAI\n",
    "from langchain_core.documents import Document\n",
    "from langchain_core.prompts import ChatPromptTemplate\n",
    "from langchain.chains.combine_documents import create_stuff_documents_chain\n",
    "\n",
    "# Definir el prompt para la cadena\n",
    "prompt = ChatPromptTemplate.from_messages(\n",
    "    [(\"system\", \"What are everyone's favorite colors:\\n\\n{context}\")]\n",
    ")\n",
    "\n",
    "# Definir el modelo de lenguaje\n",
    "llm = ChatOpenAI(model=\"gpt-3.5-turbo\")\n",
    "\n",
    "# Crear la chain que combina documentos\n",
    "chain = create_stuff_documents_chain(llm, prompt)\n",
    "\n",
    "# Crear documentos de ejemplo\n",
    "docs = [\n",
    "    Document(page_content=\"Jesse loves red but not yellow\"),\n",
    "    Document(page_content=\"Jamal loves green but not as much as he loves orange\")\n",
    "]\n",
    "\n",
    "# Ejecutar la chain con los documentos\n",
    "result = chain.invoke({\"context\": docs})\n",
    "print(result)  # Debería imprimir un resumen de los colores favoritos.\n"
   ]
  }
 ],
 "metadata": {
  "kernelspec": {
   "display_name": ".venv",
   "language": "python",
   "name": "python3"
  },
  "language_info": {
   "codemirror_mode": {
    "name": "ipython",
    "version": 3
   },
   "file_extension": ".py",
   "mimetype": "text/x-python",
   "name": "python",
   "nbconvert_exporter": "python",
   "pygments_lexer": "ipython3",
   "version": "3.12.5"
  }
 },
 "nbformat": 4,
 "nbformat_minor": 2
}
